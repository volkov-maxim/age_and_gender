{
 "cells": [
  {
   "cell_type": "code",
   "execution_count": 1,
   "metadata": {
    "collapsed": true,
    "execution": {
     "iopub.execute_input": "2024-08-22T07:42:43.238590Z",
     "iopub.status.busy": "2024-08-22T07:42:43.237704Z",
     "iopub.status.idle": "2024-08-22T07:42:59.938049Z",
     "shell.execute_reply": "2024-08-22T07:42:59.936982Z",
     "shell.execute_reply.started": "2024-08-22T07:42:43.238552Z"
    },
    "jupyter": {
     "outputs_hidden": true
    }
   },
   "outputs": [
    {
     "name": "stdout",
     "output_type": "stream",
     "text": [
      "Collecting ultralytics\n",
      "  Downloading ultralytics-8.2.79-py3-none-any.whl.metadata (41 kB)\n",
      "\u001b[2K     \u001b[90m━━━━━━━━━━━━━━━━━━━━━━━━━━━━━━━━━━━━━━━━\u001b[0m \u001b[32m41.3/41.3 kB\u001b[0m \u001b[31m1.4 MB/s\u001b[0m eta \u001b[36m0:00:00\u001b[0m\n",
      "\u001b[?25hRequirement already satisfied: numpy<2.0.0,>=1.23.0 in /opt/conda/lib/python3.10/site-packages (from ultralytics) (1.26.4)\n",
      "Requirement already satisfied: matplotlib>=3.3.0 in /opt/conda/lib/python3.10/site-packages (from ultralytics) (3.7.5)\n",
      "Requirement already satisfied: opencv-python>=4.6.0 in /opt/conda/lib/python3.10/site-packages (from ultralytics) (4.10.0.84)\n",
      "Requirement already satisfied: pillow>=7.1.2 in /opt/conda/lib/python3.10/site-packages (from ultralytics) (9.5.0)\n",
      "Requirement already satisfied: pyyaml>=5.3.1 in /opt/conda/lib/python3.10/site-packages (from ultralytics) (6.0.1)\n",
      "Requirement already satisfied: requests>=2.23.0 in /opt/conda/lib/python3.10/site-packages (from ultralytics) (2.32.3)\n",
      "Requirement already satisfied: scipy>=1.4.1 in /opt/conda/lib/python3.10/site-packages (from ultralytics) (1.11.4)\n",
      "Requirement already satisfied: torch>=1.8.0 in /opt/conda/lib/python3.10/site-packages (from ultralytics) (2.1.2)\n",
      "Requirement already satisfied: torchvision>=0.9.0 in /opt/conda/lib/python3.10/site-packages (from ultralytics) (0.16.2)\n",
      "Requirement already satisfied: tqdm>=4.64.0 in /opt/conda/lib/python3.10/site-packages (from ultralytics) (4.66.4)\n",
      "Requirement already satisfied: psutil in /opt/conda/lib/python3.10/site-packages (from ultralytics) (5.9.3)\n",
      "Requirement already satisfied: py-cpuinfo in /opt/conda/lib/python3.10/site-packages (from ultralytics) (9.0.0)\n",
      "Requirement already satisfied: pandas>=1.1.4 in /opt/conda/lib/python3.10/site-packages (from ultralytics) (2.2.2)\n",
      "Requirement already satisfied: seaborn>=0.11.0 in /opt/conda/lib/python3.10/site-packages (from ultralytics) (0.12.2)\n",
      "Collecting ultralytics-thop>=2.0.0 (from ultralytics)\n",
      "  Downloading ultralytics_thop-2.0.5-py3-none-any.whl.metadata (8.9 kB)\n",
      "Requirement already satisfied: contourpy>=1.0.1 in /opt/conda/lib/python3.10/site-packages (from matplotlib>=3.3.0->ultralytics) (1.2.0)\n",
      "Requirement already satisfied: cycler>=0.10 in /opt/conda/lib/python3.10/site-packages (from matplotlib>=3.3.0->ultralytics) (0.12.1)\n",
      "Requirement already satisfied: fonttools>=4.22.0 in /opt/conda/lib/python3.10/site-packages (from matplotlib>=3.3.0->ultralytics) (4.47.0)\n",
      "Requirement already satisfied: kiwisolver>=1.0.1 in /opt/conda/lib/python3.10/site-packages (from matplotlib>=3.3.0->ultralytics) (1.4.5)\n",
      "Requirement already satisfied: packaging>=20.0 in /opt/conda/lib/python3.10/site-packages (from matplotlib>=3.3.0->ultralytics) (21.3)\n",
      "Requirement already satisfied: pyparsing>=2.3.1 in /opt/conda/lib/python3.10/site-packages (from matplotlib>=3.3.0->ultralytics) (3.1.1)\n",
      "Requirement already satisfied: python-dateutil>=2.7 in /opt/conda/lib/python3.10/site-packages (from matplotlib>=3.3.0->ultralytics) (2.9.0.post0)\n",
      "Requirement already satisfied: pytz>=2020.1 in /opt/conda/lib/python3.10/site-packages (from pandas>=1.1.4->ultralytics) (2023.3.post1)\n",
      "Requirement already satisfied: tzdata>=2022.7 in /opt/conda/lib/python3.10/site-packages (from pandas>=1.1.4->ultralytics) (2023.4)\n",
      "Requirement already satisfied: charset-normalizer<4,>=2 in /opt/conda/lib/python3.10/site-packages (from requests>=2.23.0->ultralytics) (3.3.2)\n",
      "Requirement already satisfied: idna<4,>=2.5 in /opt/conda/lib/python3.10/site-packages (from requests>=2.23.0->ultralytics) (3.6)\n",
      "Requirement already satisfied: urllib3<3,>=1.21.1 in /opt/conda/lib/python3.10/site-packages (from requests>=2.23.0->ultralytics) (1.26.18)\n",
      "Requirement already satisfied: certifi>=2017.4.17 in /opt/conda/lib/python3.10/site-packages (from requests>=2.23.0->ultralytics) (2024.7.4)\n",
      "Requirement already satisfied: filelock in /opt/conda/lib/python3.10/site-packages (from torch>=1.8.0->ultralytics) (3.13.1)\n",
      "Requirement already satisfied: typing-extensions in /opt/conda/lib/python3.10/site-packages (from torch>=1.8.0->ultralytics) (4.9.0)\n",
      "Requirement already satisfied: sympy in /opt/conda/lib/python3.10/site-packages (from torch>=1.8.0->ultralytics) (1.13.0)\n",
      "Requirement already satisfied: networkx in /opt/conda/lib/python3.10/site-packages (from torch>=1.8.0->ultralytics) (3.2.1)\n",
      "Requirement already satisfied: jinja2 in /opt/conda/lib/python3.10/site-packages (from torch>=1.8.0->ultralytics) (3.1.2)\n",
      "Requirement already satisfied: fsspec in /opt/conda/lib/python3.10/site-packages (from torch>=1.8.0->ultralytics) (2024.5.0)\n",
      "Requirement already satisfied: six>=1.5 in /opt/conda/lib/python3.10/site-packages (from python-dateutil>=2.7->matplotlib>=3.3.0->ultralytics) (1.16.0)\n",
      "Requirement already satisfied: MarkupSafe>=2.0 in /opt/conda/lib/python3.10/site-packages (from jinja2->torch>=1.8.0->ultralytics) (2.1.3)\n",
      "Requirement already satisfied: mpmath<1.4,>=1.1.0 in /opt/conda/lib/python3.10/site-packages (from sympy->torch>=1.8.0->ultralytics) (1.3.0)\n",
      "Downloading ultralytics-8.2.79-py3-none-any.whl (869 kB)\n",
      "\u001b[2K   \u001b[90m━━━━━━━━━━━━━━━━━━━━━━━━━━━━━━━━━━━━━━━━\u001b[0m \u001b[32m869.1/869.1 kB\u001b[0m \u001b[31m13.1 MB/s\u001b[0m eta \u001b[36m0:00:00\u001b[0ma \u001b[36m0:00:01\u001b[0m\n",
      "\u001b[?25hDownloading ultralytics_thop-2.0.5-py3-none-any.whl (25 kB)\n",
      "Installing collected packages: ultralytics-thop, ultralytics\n",
      "Successfully installed ultralytics-8.2.79 ultralytics-thop-2.0.5\n"
     ]
    }
   ],
   "source": [
    "!pip install ultralytics"
   ]
  },
  {
   "cell_type": "code",
   "execution_count": 2,
   "metadata": {
    "execution": {
     "iopub.execute_input": "2024-08-22T07:42:59.940256Z",
     "iopub.status.busy": "2024-08-22T07:42:59.939942Z",
     "iopub.status.idle": "2024-08-22T07:43:04.017600Z",
     "shell.execute_reply": "2024-08-22T07:43:04.016644Z",
     "shell.execute_reply.started": "2024-08-22T07:42:59.940229Z"
    }
   },
   "outputs": [],
   "source": [
    "import os\n",
    "import shutil\n",
    "import numpy as np\n",
    "import yaml\n",
    "from ultralytics import YOLO"
   ]
  },
  {
   "cell_type": "markdown",
   "metadata": {},
   "source": [
    "## Prepare dataset"
   ]
  },
  {
   "cell_type": "code",
   "execution_count": 3,
   "metadata": {
    "execution": {
     "iopub.execute_input": "2024-08-22T02:01:56.706718Z",
     "iopub.status.busy": "2024-08-22T02:01:56.706370Z",
     "iopub.status.idle": "2024-08-22T02:01:56.711609Z",
     "shell.execute_reply": "2024-08-22T02:01:56.710296Z",
     "shell.execute_reply.started": "2024-08-22T02:01:56.706693Z"
    }
   },
   "outputs": [],
   "source": [
    "DATA_CURR_DIR = \"/kaggle/input/face-detection-dataset\"\n",
    "DATA_DEST_DIR = \"/kaggle/working/face-detection-dataset\"\n",
    "DATA_SPLITS_NAMES = (\"train\", \"val\", \"test\")\n",
    "TEST_SPLIT_FRACTION = 0.25"
   ]
  },
  {
   "cell_type": "code",
   "execution_count": 7,
   "metadata": {
    "execution": {
     "iopub.execute_input": "2024-08-21T20:14:19.388315Z",
     "iopub.status.busy": "2024-08-21T20:14:19.387511Z",
     "iopub.status.idle": "2024-08-21T20:14:19.396292Z",
     "shell.execute_reply": "2024-08-21T20:14:19.395320Z",
     "shell.execute_reply.started": "2024-08-21T20:14:19.388283Z"
    }
   },
   "outputs": [],
   "source": [
    "def convert_to_yolo(split_name: str) -> None:\n",
    "    \"\"\"\n",
    "      Convert dataset to ultralytics yolo format.\n",
    "\n",
    "      Args:\n",
    "        split_name (str): Name of the split (train/val/test)\n",
    "\n",
    "      Returns:\n",
    "        None: Due to OS actions\n",
    "    \"\"\" \n",
    "    # Create dirs.\n",
    "    split_dir_images = os.path.join(DATA_DEST_DIR, split_name, \"images\")\n",
    "    split_dir_labels = os.path.join(DATA_DEST_DIR, split_name, \"labels\")\n",
    "    if not os.path.exists(split_dir_images): os.makedirs(split_dir_images) \n",
    "    if not os.path.exists(split_dir_labels): os.makedirs(split_dir_labels)\n",
    "\n",
    "    # Fill dirs /images, /labels\n",
    "    if split_name != \"test\":\n",
    "        curr_dir_names = (\"images\", \"labels\")\n",
    "        for curr_dir_name in curr_dir_names:\n",
    "            files_path = os.path.join(DATA_CURR_DIR, curr_dir_name, split_name)\n",
    "            if curr_dir_name == \"images\": dest_dir_name = split_dir_images\n",
    "            else: dest_dir_name = split_dir_labels\n",
    "            for path in os.listdir(files_path):\n",
    "                file_path = os.path.join(files_path, path)\n",
    "                if os.path.isfile(file_path):\n",
    "                    shutil.copy(file_path, dest_dir_name)"
   ]
  },
  {
   "cell_type": "code",
   "execution_count": 5,
   "metadata": {
    "execution": {
     "iopub.execute_input": "2024-08-21T18:16:27.079589Z",
     "iopub.status.busy": "2024-08-21T18:16:27.078725Z",
     "iopub.status.idle": "2024-08-21T18:20:36.026334Z",
     "shell.execute_reply": "2024-08-21T18:20:36.025398Z",
     "shell.execute_reply.started": "2024-08-21T18:16:27.079539Z"
    }
   },
   "outputs": [
    {
     "name": "stdout",
     "output_type": "stream",
     "text": [
      "Processing split: train\n",
      "Processing split: val\n",
      "Processing split: test\n"
     ]
    }
   ],
   "source": [
    "for split_name in DATA_SPLITS_NAMES:\n",
    "    print(\"Processing split:\", split_name)\n",
    "    convert_to_yolo(split_name)"
   ]
  },
  {
   "cell_type": "markdown",
   "metadata": {},
   "source": [
    "### Create split for test."
   ]
  },
  {
   "cell_type": "code",
   "execution_count": 6,
   "metadata": {
    "collapsed": true,
    "execution": {
     "iopub.execute_input": "2024-08-21T18:28:19.516098Z",
     "iopub.status.busy": "2024-08-21T18:28:19.515359Z",
     "iopub.status.idle": "2024-08-21T18:28:19.797795Z",
     "shell.execute_reply": "2024-08-21T18:28:19.796861Z",
     "shell.execute_reply.started": "2024-08-21T18:28:19.516064Z"
    },
    "jupyter": {
     "outputs_hidden": true
    }
   },
   "outputs": [
    {
     "name": "stdout",
     "output_type": "stream",
     "text": [
      "Doesn't exist one of this: /kaggle/working/face-detection-dataset/train/images/a0ae1a3f1f67577b.jpg /kaggle/working/face-detection-dataset/train/labels/a0ae1a3f1f67577b.txt\n",
      "Doesn't exist one of this: /kaggle/working/face-detection-dataset/train/images/087d8489f86303d8.jpg /kaggle/working/face-detection-dataset/train/labels/087d8489f86303d8.txt\n",
      "Doesn't exist one of this: /kaggle/working/face-detection-dataset/train/images/ba7e549961d07089.jpg /kaggle/working/face-detection-dataset/train/labels/ba7e549961d07089.txt\n",
      "Doesn't exist one of this: /kaggle/working/face-detection-dataset/train/images/3f133b2e7158cf57.jpg /kaggle/working/face-detection-dataset/train/labels/3f133b2e7158cf57.txt\n",
      "Doesn't exist one of this: /kaggle/working/face-detection-dataset/train/images/5bb75d11536a0829.jpg /kaggle/working/face-detection-dataset/train/labels/5bb75d11536a0829.txt\n",
      "Doesn't exist one of this: /kaggle/working/face-detection-dataset/train/images/a8cd36fbc1d0e7b9.jpg /kaggle/working/face-detection-dataset/train/labels/a8cd36fbc1d0e7b9.txt\n",
      "Doesn't exist one of this: /kaggle/working/face-detection-dataset/train/images/79b233d73a81174e.jpg /kaggle/working/face-detection-dataset/train/labels/79b233d73a81174e.txt\n",
      "Doesn't exist one of this: /kaggle/working/face-detection-dataset/train/images/7df7199348b0b6e9.jpg /kaggle/working/face-detection-dataset/train/labels/7df7199348b0b6e9.txt\n",
      "Doesn't exist one of this: /kaggle/working/face-detection-dataset/train/images/7e3092c06bdf13b6.jpg /kaggle/working/face-detection-dataset/train/labels/7e3092c06bdf13b6.txt\n",
      "Doesn't exist one of this: /kaggle/working/face-detection-dataset/train/images/bb7f2da4aa490a27.jpg /kaggle/working/face-detection-dataset/train/labels/bb7f2da4aa490a27.txt\n",
      "Doesn't exist one of this: /kaggle/working/face-detection-dataset/train/images/5680ef8b0f78176b.jpg /kaggle/working/face-detection-dataset/train/labels/5680ef8b0f78176b.txt\n",
      "Doesn't exist one of this: /kaggle/working/face-detection-dataset/train/images/2f9a8eae29d40e12.jpg /kaggle/working/face-detection-dataset/train/labels/2f9a8eae29d40e12.txt\n",
      "Doesn't exist one of this: /kaggle/working/face-detection-dataset/train/images/2c6c47805231c5fb.jpg /kaggle/working/face-detection-dataset/train/labels/2c6c47805231c5fb.txt\n",
      "Doesn't exist one of this: /kaggle/working/face-detection-dataset/train/images/4bbd27cd303cee24.jpg /kaggle/working/face-detection-dataset/train/labels/4bbd27cd303cee24.txt\n",
      "Doesn't exist one of this: /kaggle/working/face-detection-dataset/train/images/2aa8d533cf45e3f0.jpg /kaggle/working/face-detection-dataset/train/labels/2aa8d533cf45e3f0.txt\n",
      "Doesn't exist one of this: /kaggle/working/face-detection-dataset/train/images/95ab6800e738b2c0.jpg /kaggle/working/face-detection-dataset/train/labels/95ab6800e738b2c0.txt\n",
      "Doesn't exist one of this: /kaggle/working/face-detection-dataset/train/images/5cb5a05fde444498.jpg /kaggle/working/face-detection-dataset/train/labels/5cb5a05fde444498.txt\n",
      "Doesn't exist one of this: /kaggle/working/face-detection-dataset/train/images/579f63f1ecf4a4b8.jpg /kaggle/working/face-detection-dataset/train/labels/579f63f1ecf4a4b8.txt\n",
      "Doesn't exist one of this: /kaggle/working/face-detection-dataset/train/images/f9f8b132b299d0df.jpg /kaggle/working/face-detection-dataset/train/labels/f9f8b132b299d0df.txt\n",
      "Doesn't exist one of this: /kaggle/working/face-detection-dataset/train/images/7df7199348b0b6e9.jpg /kaggle/working/face-detection-dataset/train/labels/7df7199348b0b6e9.txt\n",
      "Doesn't exist one of this: /kaggle/working/face-detection-dataset/train/images/a210d9d1c59cb2a0.jpg /kaggle/working/face-detection-dataset/train/labels/a210d9d1c59cb2a0.txt\n",
      "Doesn't exist one of this: /kaggle/working/face-detection-dataset/train/images/0025ef4ce41f4223.jpg /kaggle/working/face-detection-dataset/train/labels/0025ef4ce41f4223.txt\n",
      "Doesn't exist one of this: /kaggle/working/face-detection-dataset/train/images/fb7e2515d4999994.jpg /kaggle/working/face-detection-dataset/train/labels/fb7e2515d4999994.txt\n",
      "Doesn't exist one of this: /kaggle/working/face-detection-dataset/train/images/cddb029218aebb20.jpg /kaggle/working/face-detection-dataset/train/labels/cddb029218aebb20.txt\n",
      "Doesn't exist one of this: /kaggle/working/face-detection-dataset/train/images/598c5026bb3ff571.jpg /kaggle/working/face-detection-dataset/train/labels/598c5026bb3ff571.txt\n",
      "Doesn't exist one of this: /kaggle/working/face-detection-dataset/train/images/1d06447103fa0c2e.jpg /kaggle/working/face-detection-dataset/train/labels/1d06447103fa0c2e.txt\n",
      "Doesn't exist one of this: /kaggle/working/face-detection-dataset/train/images/68b9743e23aa210b.jpg /kaggle/working/face-detection-dataset/train/labels/68b9743e23aa210b.txt\n",
      "Doesn't exist one of this: /kaggle/working/face-detection-dataset/train/images/a36357d02901e139.jpg /kaggle/working/face-detection-dataset/train/labels/a36357d02901e139.txt\n",
      "Doesn't exist one of this: /kaggle/working/face-detection-dataset/train/images/44fc82750cf31747.jpg /kaggle/working/face-detection-dataset/train/labels/44fc82750cf31747.txt\n",
      "Doesn't exist one of this: /kaggle/working/face-detection-dataset/train/images/b45e2d43892f3b12.jpg /kaggle/working/face-detection-dataset/train/labels/b45e2d43892f3b12.txt\n",
      "Doesn't exist one of this: /kaggle/working/face-detection-dataset/train/images/3a8dd87569232190.jpg /kaggle/working/face-detection-dataset/train/labels/3a8dd87569232190.txt\n",
      "Doesn't exist one of this: /kaggle/working/face-detection-dataset/train/images/0f202ffcb12a8434.jpg /kaggle/working/face-detection-dataset/train/labels/0f202ffcb12a8434.txt\n",
      "Doesn't exist one of this: /kaggle/working/face-detection-dataset/train/images/951dab0af72ffc11.jpg /kaggle/working/face-detection-dataset/train/labels/951dab0af72ffc11.txt\n",
      "Doesn't exist one of this: /kaggle/working/face-detection-dataset/train/images/47a1c89c803583f8.jpg /kaggle/working/face-detection-dataset/train/labels/47a1c89c803583f8.txt\n",
      "Doesn't exist one of this: /kaggle/working/face-detection-dataset/train/images/123fff4904352476.jpg /kaggle/working/face-detection-dataset/train/labels/123fff4904352476.txt\n",
      "Doesn't exist one of this: /kaggle/working/face-detection-dataset/train/images/88db56e29daad261.jpg /kaggle/working/face-detection-dataset/train/labels/88db56e29daad261.txt\n",
      "Doesn't exist one of this: /kaggle/working/face-detection-dataset/train/images/745d44fe1481b56e.jpg /kaggle/working/face-detection-dataset/train/labels/745d44fe1481b56e.txt\n",
      "Doesn't exist one of this: /kaggle/working/face-detection-dataset/train/images/54617690d2325ea6.jpg /kaggle/working/face-detection-dataset/train/labels/54617690d2325ea6.txt\n",
      "Doesn't exist one of this: /kaggle/working/face-detection-dataset/train/images/b3323f2b8d69abc4.jpg /kaggle/working/face-detection-dataset/train/labels/b3323f2b8d69abc4.txt\n",
      "Doesn't exist one of this: /kaggle/working/face-detection-dataset/train/images/f7703763d4210de1.jpg /kaggle/working/face-detection-dataset/train/labels/f7703763d4210de1.txt\n",
      "Doesn't exist one of this: /kaggle/working/face-detection-dataset/train/images/a1a66f127a8c6741.jpg /kaggle/working/face-detection-dataset/train/labels/a1a66f127a8c6741.txt\n",
      "Doesn't exist one of this: /kaggle/working/face-detection-dataset/train/images/e4056baa916b1272.jpg /kaggle/working/face-detection-dataset/train/labels/e4056baa916b1272.txt\n",
      "Doesn't exist one of this: /kaggle/working/face-detection-dataset/train/images/ea100e73ddaa2a0d.jpg /kaggle/working/face-detection-dataset/train/labels/ea100e73ddaa2a0d.txt\n",
      "Doesn't exist one of this: /kaggle/working/face-detection-dataset/train/images/20446f2b1b2855d3.jpg /kaggle/working/face-detection-dataset/train/labels/20446f2b1b2855d3.txt\n",
      "Doesn't exist one of this: /kaggle/working/face-detection-dataset/train/images/5b9ae38a66dc9b31.jpg /kaggle/working/face-detection-dataset/train/labels/5b9ae38a66dc9b31.txt\n",
      "Doesn't exist one of this: /kaggle/working/face-detection-dataset/train/images/5523cafc06865e1d.jpg /kaggle/working/face-detection-dataset/train/labels/5523cafc06865e1d.txt\n",
      "Doesn't exist one of this: /kaggle/working/face-detection-dataset/train/images/042c222237a50bf8.jpg /kaggle/working/face-detection-dataset/train/labels/042c222237a50bf8.txt\n",
      "Doesn't exist one of this: /kaggle/working/face-detection-dataset/train/images/63f449242c1f7fee.jpg /kaggle/working/face-detection-dataset/train/labels/63f449242c1f7fee.txt\n",
      "Doesn't exist one of this: /kaggle/working/face-detection-dataset/train/images/1c3318135033c1a6.jpg /kaggle/working/face-detection-dataset/train/labels/1c3318135033c1a6.txt\n",
      "Doesn't exist one of this: /kaggle/working/face-detection-dataset/train/images/20446f2b1b2855d3.jpg /kaggle/working/face-detection-dataset/train/labels/20446f2b1b2855d3.txt\n",
      "Doesn't exist one of this: /kaggle/working/face-detection-dataset/train/images/1ff5927f43ae330e.jpg /kaggle/working/face-detection-dataset/train/labels/1ff5927f43ae330e.txt\n",
      "Doesn't exist one of this: /kaggle/working/face-detection-dataset/train/images/80fac8793a1a2e09.jpg /kaggle/working/face-detection-dataset/train/labels/80fac8793a1a2e09.txt\n",
      "Doesn't exist one of this: /kaggle/working/face-detection-dataset/train/images/03b8354570147e1b.jpg /kaggle/working/face-detection-dataset/train/labels/03b8354570147e1b.txt\n",
      "Doesn't exist one of this: /kaggle/working/face-detection-dataset/train/images/d671fb5f7976dd85.jpg /kaggle/working/face-detection-dataset/train/labels/d671fb5f7976dd85.txt\n",
      "Doesn't exist one of this: /kaggle/working/face-detection-dataset/train/images/dd066f9330d621fb.jpg /kaggle/working/face-detection-dataset/train/labels/dd066f9330d621fb.txt\n",
      "Doesn't exist one of this: /kaggle/working/face-detection-dataset/train/images/7f88ce952175693b.jpg /kaggle/working/face-detection-dataset/train/labels/7f88ce952175693b.txt\n",
      "Doesn't exist one of this: /kaggle/working/face-detection-dataset/train/images/956d4e391e96d469.jpg /kaggle/working/face-detection-dataset/train/labels/956d4e391e96d469.txt\n",
      "Doesn't exist one of this: /kaggle/working/face-detection-dataset/train/images/d505393933b88145.jpg /kaggle/working/face-detection-dataset/train/labels/d505393933b88145.txt\n",
      "Doesn't exist one of this: /kaggle/working/face-detection-dataset/train/images/5295778701567ca0.jpg /kaggle/working/face-detection-dataset/train/labels/5295778701567ca0.txt\n",
      "Doesn't exist one of this: /kaggle/working/face-detection-dataset/train/images/f346cb60bfab9398.jpg /kaggle/working/face-detection-dataset/train/labels/f346cb60bfab9398.txt\n",
      "Doesn't exist one of this: /kaggle/working/face-detection-dataset/train/images/1ff5927f43ae330e.jpg /kaggle/working/face-detection-dataset/train/labels/1ff5927f43ae330e.txt\n",
      "Doesn't exist one of this: /kaggle/working/face-detection-dataset/train/images/76be4c7741f33e1a.jpg /kaggle/working/face-detection-dataset/train/labels/76be4c7741f33e1a.txt\n",
      "Doesn't exist one of this: /kaggle/working/face-detection-dataset/train/images/e23856ce8894cef4.jpg /kaggle/working/face-detection-dataset/train/labels/e23856ce8894cef4.txt\n",
      "Doesn't exist one of this: /kaggle/working/face-detection-dataset/train/images/57abc76747250d0a.jpg /kaggle/working/face-detection-dataset/train/labels/57abc76747250d0a.txt\n",
      "Doesn't exist one of this: /kaggle/working/face-detection-dataset/train/images/9d2f166f00fb19cc.jpg /kaggle/working/face-detection-dataset/train/labels/9d2f166f00fb19cc.txt\n",
      "Doesn't exist one of this: /kaggle/working/face-detection-dataset/train/images/b6988ed7bffb166e.jpg /kaggle/working/face-detection-dataset/train/labels/b6988ed7bffb166e.txt\n",
      "Doesn't exist one of this: /kaggle/working/face-detection-dataset/train/images/a6f44343452ff32f.jpg /kaggle/working/face-detection-dataset/train/labels/a6f44343452ff32f.txt\n",
      "Doesn't exist one of this: /kaggle/working/face-detection-dataset/train/images/0e7b3cf1c517b57b.jpg /kaggle/working/face-detection-dataset/train/labels/0e7b3cf1c517b57b.txt\n",
      "Doesn't exist one of this: /kaggle/working/face-detection-dataset/train/images/faaa175b469766ad.jpg /kaggle/working/face-detection-dataset/train/labels/faaa175b469766ad.txt\n",
      "Doesn't exist one of this: /kaggle/working/face-detection-dataset/train/images/0e7b3cf1c517b57b.jpg /kaggle/working/face-detection-dataset/train/labels/0e7b3cf1c517b57b.txt\n",
      "Doesn't exist one of this: /kaggle/working/face-detection-dataset/train/images/d7e4b034ba8b344a.jpg /kaggle/working/face-detection-dataset/train/labels/d7e4b034ba8b344a.txt\n",
      "Doesn't exist one of this: /kaggle/working/face-detection-dataset/train/images/951479f358238d90.jpg /kaggle/working/face-detection-dataset/train/labels/951479f358238d90.txt\n",
      "Doesn't exist one of this: /kaggle/working/face-detection-dataset/train/images/5a1bb21d3857ae8b.jpg /kaggle/working/face-detection-dataset/train/labels/5a1bb21d3857ae8b.txt\n",
      "Doesn't exist one of this: /kaggle/working/face-detection-dataset/train/images/2c7657a5efa1c315.jpg /kaggle/working/face-detection-dataset/train/labels/2c7657a5efa1c315.txt\n",
      "Doesn't exist one of this: /kaggle/working/face-detection-dataset/train/images/32a939b836014793.jpg /kaggle/working/face-detection-dataset/train/labels/32a939b836014793.txt\n",
      "Doesn't exist one of this: /kaggle/working/face-detection-dataset/train/images/66678ef3df463697.jpg /kaggle/working/face-detection-dataset/train/labels/66678ef3df463697.txt\n",
      "Doesn't exist one of this: /kaggle/working/face-detection-dataset/train/images/f7703763d4210de1.jpg /kaggle/working/face-detection-dataset/train/labels/f7703763d4210de1.txt\n",
      "Doesn't exist one of this: /kaggle/working/face-detection-dataset/train/images/a6c7fd4af34d18c4.jpg /kaggle/working/face-detection-dataset/train/labels/a6c7fd4af34d18c4.txt\n",
      "Doesn't exist one of this: /kaggle/working/face-detection-dataset/train/images/2a130bef6182e2d0.jpg /kaggle/working/face-detection-dataset/train/labels/2a130bef6182e2d0.txt\n",
      "Doesn't exist one of this: /kaggle/working/face-detection-dataset/train/images/487176710c5da37c.jpg /kaggle/working/face-detection-dataset/train/labels/487176710c5da37c.txt\n",
      "Doesn't exist one of this: /kaggle/working/face-detection-dataset/train/images/51af2d436fefb9e5.jpg /kaggle/working/face-detection-dataset/train/labels/51af2d436fefb9e5.txt\n",
      "Doesn't exist one of this: /kaggle/working/face-detection-dataset/train/images/8f7af94c19fd5544.jpg /kaggle/working/face-detection-dataset/train/labels/8f7af94c19fd5544.txt\n",
      "Doesn't exist one of this: /kaggle/working/face-detection-dataset/train/images/d459de0c4b90ae78.jpg /kaggle/working/face-detection-dataset/train/labels/d459de0c4b90ae78.txt\n",
      "Doesn't exist one of this: /kaggle/working/face-detection-dataset/train/images/21e079e8196ed69e.jpg /kaggle/working/face-detection-dataset/train/labels/21e079e8196ed69e.txt\n",
      "Doesn't exist one of this: /kaggle/working/face-detection-dataset/train/images/bf7c04d8b40baab1.jpg /kaggle/working/face-detection-dataset/train/labels/bf7c04d8b40baab1.txt\n",
      "Doesn't exist one of this: /kaggle/working/face-detection-dataset/train/images/6fb9e3c92291ec69.jpg /kaggle/working/face-detection-dataset/train/labels/6fb9e3c92291ec69.txt\n",
      "Doesn't exist one of this: /kaggle/working/face-detection-dataset/train/images/17dab894d73c365b.jpg /kaggle/working/face-detection-dataset/train/labels/17dab894d73c365b.txt\n",
      "Doesn't exist one of this: /kaggle/working/face-detection-dataset/train/images/95faa5f1f249ab05.jpg /kaggle/working/face-detection-dataset/train/labels/95faa5f1f249ab05.txt\n",
      "Doesn't exist one of this: /kaggle/working/face-detection-dataset/train/images/4381cbc6decb9aaf.jpg /kaggle/working/face-detection-dataset/train/labels/4381cbc6decb9aaf.txt\n",
      "Doesn't exist one of this: /kaggle/working/face-detection-dataset/train/images/f74c7edafb8c1082.jpg /kaggle/working/face-detection-dataset/train/labels/f74c7edafb8c1082.txt\n",
      "Doesn't exist one of this: /kaggle/working/face-detection-dataset/train/images/cc408f5f2d3e699a.jpg /kaggle/working/face-detection-dataset/train/labels/cc408f5f2d3e699a.txt\n",
      "Doesn't exist one of this: /kaggle/working/face-detection-dataset/train/images/7c53f35b7126f651.jpg /kaggle/working/face-detection-dataset/train/labels/7c53f35b7126f651.txt\n",
      "Doesn't exist one of this: /kaggle/working/face-detection-dataset/train/images/fcad84496db08e2d.jpg /kaggle/working/face-detection-dataset/train/labels/fcad84496db08e2d.txt\n",
      "Doesn't exist one of this: /kaggle/working/face-detection-dataset/train/images/cb5532dd34198ff4.jpg /kaggle/working/face-detection-dataset/train/labels/cb5532dd34198ff4.txt\n",
      "Doesn't exist one of this: /kaggle/working/face-detection-dataset/train/images/b683410f10440ec0.jpg /kaggle/working/face-detection-dataset/train/labels/b683410f10440ec0.txt\n",
      "Doesn't exist one of this: /kaggle/working/face-detection-dataset/train/images/639b49e75c8d7d43.jpg /kaggle/working/face-detection-dataset/train/labels/639b49e75c8d7d43.txt\n",
      "Doesn't exist one of this: /kaggle/working/face-detection-dataset/train/images/c7c1143b7b2f6114.jpg /kaggle/working/face-detection-dataset/train/labels/c7c1143b7b2f6114.txt\n",
      "Doesn't exist one of this: /kaggle/working/face-detection-dataset/train/images/606ffcef623911c5.jpg /kaggle/working/face-detection-dataset/train/labels/606ffcef623911c5.txt\n",
      "Doesn't exist one of this: /kaggle/working/face-detection-dataset/train/images/137f971d3945d011.jpg /kaggle/working/face-detection-dataset/train/labels/137f971d3945d011.txt\n",
      "Doesn't exist one of this: /kaggle/working/face-detection-dataset/train/images/6a533ebbf002b30c.jpg /kaggle/working/face-detection-dataset/train/labels/6a533ebbf002b30c.txt\n",
      "Doesn't exist one of this: /kaggle/working/face-detection-dataset/train/images/602839c06402ad97.jpg /kaggle/working/face-detection-dataset/train/labels/602839c06402ad97.txt\n",
      "Doesn't exist one of this: /kaggle/working/face-detection-dataset/train/images/fe272e79df991938.jpg /kaggle/working/face-detection-dataset/train/labels/fe272e79df991938.txt\n",
      "Doesn't exist one of this: /kaggle/working/face-detection-dataset/train/images/58d6bd6638b30c66.jpg /kaggle/working/face-detection-dataset/train/labels/58d6bd6638b30c66.txt\n",
      "Doesn't exist one of this: /kaggle/working/face-detection-dataset/train/images/4cb8fb2114d76d16.jpg /kaggle/working/face-detection-dataset/train/labels/4cb8fb2114d76d16.txt\n",
      "Doesn't exist one of this: /kaggle/working/face-detection-dataset/train/images/4af4746af7548e07.jpg /kaggle/working/face-detection-dataset/train/labels/4af4746af7548e07.txt\n",
      "Doesn't exist one of this: /kaggle/working/face-detection-dataset/train/images/4175c8bc8cef4b2d.jpg /kaggle/working/face-detection-dataset/train/labels/4175c8bc8cef4b2d.txt\n",
      "Doesn't exist one of this: /kaggle/working/face-detection-dataset/train/images/686f2b1709d272ed.jpg /kaggle/working/face-detection-dataset/train/labels/686f2b1709d272ed.txt\n",
      "Doesn't exist one of this: /kaggle/working/face-detection-dataset/train/images/e8ae9ed29485613b.jpg /kaggle/working/face-detection-dataset/train/labels/e8ae9ed29485613b.txt\n",
      "Doesn't exist one of this: /kaggle/working/face-detection-dataset/train/images/5838f385a5468b63.jpg /kaggle/working/face-detection-dataset/train/labels/5838f385a5468b63.txt\n",
      "Doesn't exist one of this: /kaggle/working/face-detection-dataset/train/images/aebd37deadc79e70.jpg /kaggle/working/face-detection-dataset/train/labels/aebd37deadc79e70.txt\n",
      "Doesn't exist one of this: /kaggle/working/face-detection-dataset/train/images/82f0ae6f16b4b09e.jpg /kaggle/working/face-detection-dataset/train/labels/82f0ae6f16b4b09e.txt\n",
      "Doesn't exist one of this: /kaggle/working/face-detection-dataset/train/images/7bf245ca31d6a7d3.jpg /kaggle/working/face-detection-dataset/train/labels/7bf245ca31d6a7d3.txt\n",
      "Doesn't exist one of this: /kaggle/working/face-detection-dataset/train/images/74edd11e6d21cf53.jpg /kaggle/working/face-detection-dataset/train/labels/74edd11e6d21cf53.txt\n",
      "Doesn't exist one of this: /kaggle/working/face-detection-dataset/train/images/2ba4291c00cc698e.jpg /kaggle/working/face-detection-dataset/train/labels/2ba4291c00cc698e.txt\n",
      "Doesn't exist one of this: /kaggle/working/face-detection-dataset/train/images/eed562dee67f6344.jpg /kaggle/working/face-detection-dataset/train/labels/eed562dee67f6344.txt\n",
      "Doesn't exist one of this: /kaggle/working/face-detection-dataset/train/images/ae51194831fae71b.jpg /kaggle/working/face-detection-dataset/train/labels/ae51194831fae71b.txt\n",
      "Doesn't exist one of this: /kaggle/working/face-detection-dataset/train/images/114ba169ff55e124.jpg /kaggle/working/face-detection-dataset/train/labels/114ba169ff55e124.txt\n",
      "Doesn't exist one of this: /kaggle/working/face-detection-dataset/train/images/9cd9385fa2d68be4.jpg /kaggle/working/face-detection-dataset/train/labels/9cd9385fa2d68be4.txt\n",
      "Doesn't exist one of this: /kaggle/working/face-detection-dataset/train/images/3f133b2e7158cf57.jpg /kaggle/working/face-detection-dataset/train/labels/3f133b2e7158cf57.txt\n",
      "Doesn't exist one of this: /kaggle/working/face-detection-dataset/train/images/3fb77c0990b236b4.jpg /kaggle/working/face-detection-dataset/train/labels/3fb77c0990b236b4.txt\n",
      "Doesn't exist one of this: /kaggle/working/face-detection-dataset/train/images/cc8d83fea19dcd75.jpg /kaggle/working/face-detection-dataset/train/labels/cc8d83fea19dcd75.txt\n",
      "Doesn't exist one of this: /kaggle/working/face-detection-dataset/train/images/b7200fb7d1a9ad96.jpg /kaggle/working/face-detection-dataset/train/labels/b7200fb7d1a9ad96.txt\n",
      "Doesn't exist one of this: /kaggle/working/face-detection-dataset/train/images/eec23b44876f900f.jpg /kaggle/working/face-detection-dataset/train/labels/eec23b44876f900f.txt\n",
      "Doesn't exist one of this: /kaggle/working/face-detection-dataset/train/images/6b0a7342ea88e212.jpg /kaggle/working/face-detection-dataset/train/labels/6b0a7342ea88e212.txt\n",
      "Doesn't exist one of this: /kaggle/working/face-detection-dataset/train/images/f33515292d0f0efd.jpg /kaggle/working/face-detection-dataset/train/labels/f33515292d0f0efd.txt\n",
      "Doesn't exist one of this: /kaggle/working/face-detection-dataset/train/images/6e2c504431730bb7.jpg /kaggle/working/face-detection-dataset/train/labels/6e2c504431730bb7.txt\n",
      "Doesn't exist one of this: /kaggle/working/face-detection-dataset/train/images/6bb7ee18ba93317f.jpg /kaggle/working/face-detection-dataset/train/labels/6bb7ee18ba93317f.txt\n",
      "Doesn't exist one of this: /kaggle/working/face-detection-dataset/train/images/1c3318135033c1a6.jpg /kaggle/working/face-detection-dataset/train/labels/1c3318135033c1a6.txt\n",
      "Doesn't exist one of this: /kaggle/working/face-detection-dataset/train/images/ae01ce9b998bacc5.jpg /kaggle/working/face-detection-dataset/train/labels/ae01ce9b998bacc5.txt\n",
      "Doesn't exist one of this: /kaggle/working/face-detection-dataset/train/images/8f7af94c19fd5544.jpg /kaggle/working/face-detection-dataset/train/labels/8f7af94c19fd5544.txt\n",
      "Doesn't exist one of this: /kaggle/working/face-detection-dataset/train/images/c4f468866c12a0eb.jpg /kaggle/working/face-detection-dataset/train/labels/c4f468866c12a0eb.txt\n",
      "Doesn't exist one of this: /kaggle/working/face-detection-dataset/train/images/469716afed40051c.jpg /kaggle/working/face-detection-dataset/train/labels/469716afed40051c.txt\n",
      "Doesn't exist one of this: /kaggle/working/face-detection-dataset/train/images/2accb83bb5f58508.jpg /kaggle/working/face-detection-dataset/train/labels/2accb83bb5f58508.txt\n",
      "Doesn't exist one of this: /kaggle/working/face-detection-dataset/train/images/784a03b270cf5a16.jpg /kaggle/working/face-detection-dataset/train/labels/784a03b270cf5a16.txt\n",
      "Doesn't exist one of this: /kaggle/working/face-detection-dataset/train/images/c80a5383bc41d5a5.jpg /kaggle/working/face-detection-dataset/train/labels/c80a5383bc41d5a5.txt\n",
      "Doesn't exist one of this: /kaggle/working/face-detection-dataset/train/images/bd81e160d1656690.jpg /kaggle/working/face-detection-dataset/train/labels/bd81e160d1656690.txt\n",
      "Doesn't exist one of this: /kaggle/working/face-detection-dataset/train/images/2e47ef1395b65b7f.jpg /kaggle/working/face-detection-dataset/train/labels/2e47ef1395b65b7f.txt\n",
      "Doesn't exist one of this: /kaggle/working/face-detection-dataset/train/images/95f91ae250353edc.jpg /kaggle/working/face-detection-dataset/train/labels/95f91ae250353edc.txt\n",
      "Doesn't exist one of this: /kaggle/working/face-detection-dataset/train/images/76be4c7741f33e1a.jpg /kaggle/working/face-detection-dataset/train/labels/76be4c7741f33e1a.txt\n",
      "Doesn't exist one of this: /kaggle/working/face-detection-dataset/train/images/2fd4b1622d939325.jpg /kaggle/working/face-detection-dataset/train/labels/2fd4b1622d939325.txt\n",
      "Doesn't exist one of this: /kaggle/working/face-detection-dataset/train/images/a8cf71971c314ff7.jpg /kaggle/working/face-detection-dataset/train/labels/a8cf71971c314ff7.txt\n",
      "Doesn't exist one of this: /kaggle/working/face-detection-dataset/train/images/f9b366a76e4c6a74.jpg /kaggle/working/face-detection-dataset/train/labels/f9b366a76e4c6a74.txt\n",
      "Doesn't exist one of this: /kaggle/working/face-detection-dataset/train/images/9a18ce60435ebfbe.jpg /kaggle/working/face-detection-dataset/train/labels/9a18ce60435ebfbe.txt\n",
      "Doesn't exist one of this: /kaggle/working/face-detection-dataset/train/images/8aa46f3b45dba377.jpg /kaggle/working/face-detection-dataset/train/labels/8aa46f3b45dba377.txt\n",
      "Doesn't exist one of this: /kaggle/working/face-detection-dataset/train/images/c0065553f226ef42.jpg /kaggle/working/face-detection-dataset/train/labels/c0065553f226ef42.txt\n",
      "Doesn't exist one of this: /kaggle/working/face-detection-dataset/train/images/f673e4d6efd8594a.jpg /kaggle/working/face-detection-dataset/train/labels/f673e4d6efd8594a.txt\n",
      "Doesn't exist one of this: /kaggle/working/face-detection-dataset/train/images/7a666a6550f061e9.jpg /kaggle/working/face-detection-dataset/train/labels/7a666a6550f061e9.txt\n",
      "Doesn't exist one of this: /kaggle/working/face-detection-dataset/train/images/57b33ebdad47935a.jpg /kaggle/working/face-detection-dataset/train/labels/57b33ebdad47935a.txt\n",
      "Doesn't exist one of this: /kaggle/working/face-detection-dataset/train/images/5aa2caca0c696abc.jpg /kaggle/working/face-detection-dataset/train/labels/5aa2caca0c696abc.txt\n",
      "Doesn't exist one of this: /kaggle/working/face-detection-dataset/train/images/8603b3ca6764e307.jpg /kaggle/working/face-detection-dataset/train/labels/8603b3ca6764e307.txt\n",
      "Doesn't exist one of this: /kaggle/working/face-detection-dataset/train/images/7d0970baaafa59ec.jpg /kaggle/working/face-detection-dataset/train/labels/7d0970baaafa59ec.txt\n",
      "Doesn't exist one of this: /kaggle/working/face-detection-dataset/train/images/8dedcfc6792c45ce.jpg /kaggle/working/face-detection-dataset/train/labels/8dedcfc6792c45ce.txt\n",
      "Doesn't exist one of this: /kaggle/working/face-detection-dataset/train/images/a387a2c08fbb69d2.jpg /kaggle/working/face-detection-dataset/train/labels/a387a2c08fbb69d2.txt\n",
      "Doesn't exist one of this: /kaggle/working/face-detection-dataset/train/images/38875b7571cbf14b.jpg /kaggle/working/face-detection-dataset/train/labels/38875b7571cbf14b.txt\n",
      "Doesn't exist one of this: /kaggle/working/face-detection-dataset/train/images/86b6d96851e10871.jpg /kaggle/working/face-detection-dataset/train/labels/86b6d96851e10871.txt\n",
      "Doesn't exist one of this: /kaggle/working/face-detection-dataset/train/images/81f8853100fb8b10.jpg /kaggle/working/face-detection-dataset/train/labels/81f8853100fb8b10.txt\n",
      "Doesn't exist one of this: /kaggle/working/face-detection-dataset/train/images/0f202ffcb12a8434.jpg /kaggle/working/face-detection-dataset/train/labels/0f202ffcb12a8434.txt\n",
      "Doesn't exist one of this: /kaggle/working/face-detection-dataset/train/images/2e0e7a626a2189e3.jpg /kaggle/working/face-detection-dataset/train/labels/2e0e7a626a2189e3.txt\n",
      "Doesn't exist one of this: /kaggle/working/face-detection-dataset/train/images/c0a9d0c7b5e13ff0.jpg /kaggle/working/face-detection-dataset/train/labels/c0a9d0c7b5e13ff0.txt\n",
      "Doesn't exist one of this: /kaggle/working/face-detection-dataset/train/images/38875b7571cbf14b.jpg /kaggle/working/face-detection-dataset/train/labels/38875b7571cbf14b.txt\n",
      "Doesn't exist one of this: /kaggle/working/face-detection-dataset/train/images/77bd9ec4d079e396.jpg /kaggle/working/face-detection-dataset/train/labels/77bd9ec4d079e396.txt\n",
      "Doesn't exist one of this: /kaggle/working/face-detection-dataset/train/images/8dedcfc6792c45ce.jpg /kaggle/working/face-detection-dataset/train/labels/8dedcfc6792c45ce.txt\n",
      "Doesn't exist one of this: /kaggle/working/face-detection-dataset/train/images/399146a710b52bb2.jpg /kaggle/working/face-detection-dataset/train/labels/399146a710b52bb2.txt\n",
      "Doesn't exist one of this: /kaggle/working/face-detection-dataset/train/images/cbc90d672efad0b7.jpg /kaggle/working/face-detection-dataset/train/labels/cbc90d672efad0b7.txt\n",
      "Doesn't exist one of this: /kaggle/working/face-detection-dataset/train/images/f06cc672310f54c8.jpg /kaggle/working/face-detection-dataset/train/labels/f06cc672310f54c8.txt\n",
      "Doesn't exist one of this: /kaggle/working/face-detection-dataset/train/images/1c1c13ac58705501.jpg /kaggle/working/face-detection-dataset/train/labels/1c1c13ac58705501.txt\n",
      "Doesn't exist one of this: /kaggle/working/face-detection-dataset/train/images/0f2657d11582a3b6.jpg /kaggle/working/face-detection-dataset/train/labels/0f2657d11582a3b6.txt\n",
      "Doesn't exist one of this: /kaggle/working/face-detection-dataset/train/images/2fd4b1622d939325.jpg /kaggle/working/face-detection-dataset/train/labels/2fd4b1622d939325.txt\n",
      "Doesn't exist one of this: /kaggle/working/face-detection-dataset/train/images/4256b7addee37cf3.jpg /kaggle/working/face-detection-dataset/train/labels/4256b7addee37cf3.txt\n",
      "Doesn't exist one of this: /kaggle/working/face-detection-dataset/train/images/d74c5b14583b2405.jpg /kaggle/working/face-detection-dataset/train/labels/d74c5b14583b2405.txt\n",
      "Doesn't exist one of this: /kaggle/working/face-detection-dataset/train/images/1a8305801ccf16bf.jpg /kaggle/working/face-detection-dataset/train/labels/1a8305801ccf16bf.txt\n",
      "Doesn't exist one of this: /kaggle/working/face-detection-dataset/train/images/a6069347aa4c56af.jpg /kaggle/working/face-detection-dataset/train/labels/a6069347aa4c56af.txt\n",
      "Doesn't exist one of this: /kaggle/working/face-detection-dataset/train/images/c579f65f3880b5fc.jpg /kaggle/working/face-detection-dataset/train/labels/c579f65f3880b5fc.txt\n",
      "Doesn't exist one of this: /kaggle/working/face-detection-dataset/train/images/8c7d48faf010e550.jpg /kaggle/working/face-detection-dataset/train/labels/8c7d48faf010e550.txt\n",
      "Doesn't exist one of this: /kaggle/working/face-detection-dataset/train/images/72ed4b73a211efba.jpg /kaggle/working/face-detection-dataset/train/labels/72ed4b73a211efba.txt\n",
      "Doesn't exist one of this: /kaggle/working/face-detection-dataset/train/images/1f056ae62320572f.jpg /kaggle/working/face-detection-dataset/train/labels/1f056ae62320572f.txt\n",
      "Doesn't exist one of this: /kaggle/working/face-detection-dataset/train/images/6545d604b272e474.jpg /kaggle/working/face-detection-dataset/train/labels/6545d604b272e474.txt\n",
      "Doesn't exist one of this: /kaggle/working/face-detection-dataset/train/images/ecd8523563d50622.jpg /kaggle/working/face-detection-dataset/train/labels/ecd8523563d50622.txt\n",
      "Doesn't exist one of this: /kaggle/working/face-detection-dataset/train/images/a7833e437d467cde.jpg /kaggle/working/face-detection-dataset/train/labels/a7833e437d467cde.txt\n",
      "Doesn't exist one of this: /kaggle/working/face-detection-dataset/train/images/85d1ddf23e9070b8.jpg /kaggle/working/face-detection-dataset/train/labels/85d1ddf23e9070b8.txt\n",
      "Doesn't exist one of this: /kaggle/working/face-detection-dataset/train/images/1637401ce47b9616.jpg /kaggle/working/face-detection-dataset/train/labels/1637401ce47b9616.txt\n",
      "Doesn't exist one of this: /kaggle/working/face-detection-dataset/train/images/80fac8793a1a2e09.jpg /kaggle/working/face-detection-dataset/train/labels/80fac8793a1a2e09.txt\n",
      "Doesn't exist one of this: /kaggle/working/face-detection-dataset/train/images/44b65fa73b01425f.jpg /kaggle/working/face-detection-dataset/train/labels/44b65fa73b01425f.txt\n",
      "Doesn't exist one of this: /kaggle/working/face-detection-dataset/train/images/6b9101513dda8fd3.jpg /kaggle/working/face-detection-dataset/train/labels/6b9101513dda8fd3.txt\n",
      "Doesn't exist one of this: /kaggle/working/face-detection-dataset/train/images/154c635a2c543c8a.jpg /kaggle/working/face-detection-dataset/train/labels/154c635a2c543c8a.txt\n",
      "Doesn't exist one of this: /kaggle/working/face-detection-dataset/train/images/727fb819a331db48.jpg /kaggle/working/face-detection-dataset/train/labels/727fb819a331db48.txt\n",
      "Doesn't exist one of this: /kaggle/working/face-detection-dataset/train/images/9507c64583c41908.jpg /kaggle/working/face-detection-dataset/train/labels/9507c64583c41908.txt\n",
      "Doesn't exist one of this: /kaggle/working/face-detection-dataset/train/images/b1ac2a40bbb170e8.jpg /kaggle/working/face-detection-dataset/train/labels/b1ac2a40bbb170e8.txt\n",
      "Doesn't exist one of this: /kaggle/working/face-detection-dataset/train/images/348307d759b11690.jpg /kaggle/working/face-detection-dataset/train/labels/348307d759b11690.txt\n",
      "Doesn't exist one of this: /kaggle/working/face-detection-dataset/train/images/5e573001d4c61fb5.jpg /kaggle/working/face-detection-dataset/train/labels/5e573001d4c61fb5.txt\n",
      "Doesn't exist one of this: /kaggle/working/face-detection-dataset/train/images/5ade4f4700ffe7ff.jpg /kaggle/working/face-detection-dataset/train/labels/5ade4f4700ffe7ff.txt\n",
      "Doesn't exist one of this: /kaggle/working/face-detection-dataset/train/images/60210de4c1a50108.jpg /kaggle/working/face-detection-dataset/train/labels/60210de4c1a50108.txt\n",
      "Doesn't exist one of this: /kaggle/working/face-detection-dataset/train/images/9ee4045052d121d0.jpg /kaggle/working/face-detection-dataset/train/labels/9ee4045052d121d0.txt\n",
      "Doesn't exist one of this: /kaggle/working/face-detection-dataset/train/images/8780d81ffc4d7de5.jpg /kaggle/working/face-detection-dataset/train/labels/8780d81ffc4d7de5.txt\n",
      "Doesn't exist one of this: /kaggle/working/face-detection-dataset/train/images/b0c4491f61005387.jpg /kaggle/working/face-detection-dataset/train/labels/b0c4491f61005387.txt\n",
      "Doesn't exist one of this: /kaggle/working/face-detection-dataset/train/images/1007f98e0a40a663.jpg /kaggle/working/face-detection-dataset/train/labels/1007f98e0a40a663.txt\n",
      "Doesn't exist one of this: /kaggle/working/face-detection-dataset/train/images/a8999816e3d9e064.jpg /kaggle/working/face-detection-dataset/train/labels/a8999816e3d9e064.txt\n",
      "Doesn't exist one of this: /kaggle/working/face-detection-dataset/train/images/7df7199348b0b6e9.jpg /kaggle/working/face-detection-dataset/train/labels/7df7199348b0b6e9.txt\n",
      "Doesn't exist one of this: /kaggle/working/face-detection-dataset/train/images/1a8305801ccf16bf.jpg /kaggle/working/face-detection-dataset/train/labels/1a8305801ccf16bf.txt\n",
      "Doesn't exist one of this: /kaggle/working/face-detection-dataset/train/images/6e2c504431730bb7.jpg /kaggle/working/face-detection-dataset/train/labels/6e2c504431730bb7.txt\n",
      "Doesn't exist one of this: /kaggle/working/face-detection-dataset/train/images/e9d549cb24384de6.jpg /kaggle/working/face-detection-dataset/train/labels/e9d549cb24384de6.txt\n",
      "Doesn't exist one of this: /kaggle/working/face-detection-dataset/train/images/a4780d03f7283dfc.jpg /kaggle/working/face-detection-dataset/train/labels/a4780d03f7283dfc.txt\n",
      "Doesn't exist one of this: /kaggle/working/face-detection-dataset/train/images/8facdff1277d9ff1.jpg /kaggle/working/face-detection-dataset/train/labels/8facdff1277d9ff1.txt\n",
      "Doesn't exist one of this: /kaggle/working/face-detection-dataset/train/images/b4a69a5bd97f8613.jpg /kaggle/working/face-detection-dataset/train/labels/b4a69a5bd97f8613.txt\n",
      "Doesn't exist one of this: /kaggle/working/face-detection-dataset/train/images/549ef751400d0f7d.jpg /kaggle/working/face-detection-dataset/train/labels/549ef751400d0f7d.txt\n",
      "Doesn't exist one of this: /kaggle/working/face-detection-dataset/train/images/12a4367cef7042db.jpg /kaggle/working/face-detection-dataset/train/labels/12a4367cef7042db.txt\n",
      "Doesn't exist one of this: /kaggle/working/face-detection-dataset/train/images/44fc82750cf31747.jpg /kaggle/working/face-detection-dataset/train/labels/44fc82750cf31747.txt\n",
      "Doesn't exist one of this: /kaggle/working/face-detection-dataset/train/images/9498fc763cf7f2d3.jpg /kaggle/working/face-detection-dataset/train/labels/9498fc763cf7f2d3.txt\n",
      "Doesn't exist one of this: /kaggle/working/face-detection-dataset/train/images/85575add4f29de8b.jpg /kaggle/working/face-detection-dataset/train/labels/85575add4f29de8b.txt\n",
      "Doesn't exist one of this: /kaggle/working/face-detection-dataset/train/images/c82f2234b9f66970.jpg /kaggle/working/face-detection-dataset/train/labels/c82f2234b9f66970.txt\n",
      "Doesn't exist one of this: /kaggle/working/face-detection-dataset/train/images/49f860fb53853f96.jpg /kaggle/working/face-detection-dataset/train/labels/49f860fb53853f96.txt\n",
      "Doesn't exist one of this: /kaggle/working/face-detection-dataset/train/images/c41e95da74ad5069.jpg /kaggle/working/face-detection-dataset/train/labels/c41e95da74ad5069.txt\n",
      "Doesn't exist one of this: /kaggle/working/face-detection-dataset/train/images/16bd821d8ab51124.jpg /kaggle/working/face-detection-dataset/train/labels/16bd821d8ab51124.txt\n",
      "Doesn't exist one of this: /kaggle/working/face-detection-dataset/train/images/5228c4fbe4390346.jpg /kaggle/working/face-detection-dataset/train/labels/5228c4fbe4390346.txt\n",
      "Doesn't exist one of this: /kaggle/working/face-detection-dataset/train/images/bdaa351d71ba56ea.jpg /kaggle/working/face-detection-dataset/train/labels/bdaa351d71ba56ea.txt\n",
      "Doesn't exist one of this: /kaggle/working/face-detection-dataset/train/images/3438a4dd4ea3824d.jpg /kaggle/working/face-detection-dataset/train/labels/3438a4dd4ea3824d.txt\n",
      "Doesn't exist one of this: /kaggle/working/face-detection-dataset/train/images/7ef9f7f322215c0d.jpg /kaggle/working/face-detection-dataset/train/labels/7ef9f7f322215c0d.txt\n",
      "Doesn't exist one of this: /kaggle/working/face-detection-dataset/train/images/d2f43be5600163df.jpg /kaggle/working/face-detection-dataset/train/labels/d2f43be5600163df.txt\n",
      "Doesn't exist one of this: /kaggle/working/face-detection-dataset/train/images/046eea3245cd4ea4.jpg /kaggle/working/face-detection-dataset/train/labels/046eea3245cd4ea4.txt\n",
      "Doesn't exist one of this: /kaggle/working/face-detection-dataset/train/images/b55918221a1836e7.jpg /kaggle/working/face-detection-dataset/train/labels/b55918221a1836e7.txt\n",
      "Doesn't exist one of this: /kaggle/working/face-detection-dataset/train/images/c4f468866c12a0eb.jpg /kaggle/working/face-detection-dataset/train/labels/c4f468866c12a0eb.txt\n",
      "Doesn't exist one of this: /kaggle/working/face-detection-dataset/train/images/052b387d09f394bd.jpg /kaggle/working/face-detection-dataset/train/labels/052b387d09f394bd.txt\n",
      "Doesn't exist one of this: /kaggle/working/face-detection-dataset/train/images/ea094917661bac7c.jpg /kaggle/working/face-detection-dataset/train/labels/ea094917661bac7c.txt\n",
      "Doesn't exist one of this: /kaggle/working/face-detection-dataset/train/images/1f47614d3817e30a.jpg /kaggle/working/face-detection-dataset/train/labels/1f47614d3817e30a.txt\n",
      "Doesn't exist one of this: /kaggle/working/face-detection-dataset/train/images/19c622a1b27e3355.jpg /kaggle/working/face-detection-dataset/train/labels/19c622a1b27e3355.txt\n",
      "Doesn't exist one of this: /kaggle/working/face-detection-dataset/train/images/0d1c79d6093c8627.jpg /kaggle/working/face-detection-dataset/train/labels/0d1c79d6093c8627.txt\n",
      "Doesn't exist one of this: /kaggle/working/face-detection-dataset/train/images/d87fd5572fc8350b.jpg /kaggle/working/face-detection-dataset/train/labels/d87fd5572fc8350b.txt\n",
      "Doesn't exist one of this: /kaggle/working/face-detection-dataset/train/images/c8ab4d83cca3beed.jpg /kaggle/working/face-detection-dataset/train/labels/c8ab4d83cca3beed.txt\n",
      "Doesn't exist one of this: /kaggle/working/face-detection-dataset/train/images/e5b42ab98a01b29d.jpg /kaggle/working/face-detection-dataset/train/labels/e5b42ab98a01b29d.txt\n",
      "Doesn't exist one of this: /kaggle/working/face-detection-dataset/train/images/280637bd5824c6e4.jpg /kaggle/working/face-detection-dataset/train/labels/280637bd5824c6e4.txt\n",
      "Doesn't exist one of this: /kaggle/working/face-detection-dataset/train/images/a3036b75a04ecd2a.jpg /kaggle/working/face-detection-dataset/train/labels/a3036b75a04ecd2a.txt\n",
      "Doesn't exist one of this: /kaggle/working/face-detection-dataset/train/images/d1e0a565bf9c3fb2.jpg /kaggle/working/face-detection-dataset/train/labels/d1e0a565bf9c3fb2.txt\n",
      "Doesn't exist one of this: /kaggle/working/face-detection-dataset/train/images/ea48faebbb7df301.jpg /kaggle/working/face-detection-dataset/train/labels/ea48faebbb7df301.txt\n",
      "Doesn't exist one of this: /kaggle/working/face-detection-dataset/train/images/652c4d1178e93ab0.jpg /kaggle/working/face-detection-dataset/train/labels/652c4d1178e93ab0.txt\n",
      "Doesn't exist one of this: /kaggle/working/face-detection-dataset/train/images/a3d90af92444264b.jpg /kaggle/working/face-detection-dataset/train/labels/a3d90af92444264b.txt\n",
      "Doesn't exist one of this: /kaggle/working/face-detection-dataset/train/images/d1e53efd5d21e11c.jpg /kaggle/working/face-detection-dataset/train/labels/d1e53efd5d21e11c.txt\n",
      "Doesn't exist one of this: /kaggle/working/face-detection-dataset/train/images/d2b593eb5dedc80f.jpg /kaggle/working/face-detection-dataset/train/labels/d2b593eb5dedc80f.txt\n",
      "Doesn't exist one of this: /kaggle/working/face-detection-dataset/train/images/d543f5cae131b190.jpg /kaggle/working/face-detection-dataset/train/labels/d543f5cae131b190.txt\n",
      "Doesn't exist one of this: /kaggle/working/face-detection-dataset/train/images/98932028f4ed9bf0.jpg /kaggle/working/face-detection-dataset/train/labels/98932028f4ed9bf0.txt\n",
      "Doesn't exist one of this: /kaggle/working/face-detection-dataset/train/images/c0065553f226ef42.jpg /kaggle/working/face-detection-dataset/train/labels/c0065553f226ef42.txt\n",
      "Doesn't exist one of this: /kaggle/working/face-detection-dataset/train/images/28b6a5f7ea219621.jpg /kaggle/working/face-detection-dataset/train/labels/28b6a5f7ea219621.txt\n",
      "Doesn't exist one of this: /kaggle/working/face-detection-dataset/train/images/d374d08c32af00f8.jpg /kaggle/working/face-detection-dataset/train/labels/d374d08c32af00f8.txt\n",
      "Doesn't exist one of this: /kaggle/working/face-detection-dataset/train/images/8a34b2e543233162.jpg /kaggle/working/face-detection-dataset/train/labels/8a34b2e543233162.txt\n",
      "Doesn't exist one of this: /kaggle/working/face-detection-dataset/train/images/96a9e95efd3bd7fb.jpg /kaggle/working/face-detection-dataset/train/labels/96a9e95efd3bd7fb.txt\n",
      "Doesn't exist one of this: /kaggle/working/face-detection-dataset/train/images/4605ed2de0251dc9.jpg /kaggle/working/face-detection-dataset/train/labels/4605ed2de0251dc9.txt\n",
      "Doesn't exist one of this: /kaggle/working/face-detection-dataset/train/images/2651b472e765f340.jpg /kaggle/working/face-detection-dataset/train/labels/2651b472e765f340.txt\n",
      "Doesn't exist one of this: /kaggle/working/face-detection-dataset/train/images/348307d759b11690.jpg /kaggle/working/face-detection-dataset/train/labels/348307d759b11690.txt\n",
      "Doesn't exist one of this: /kaggle/working/face-detection-dataset/train/images/814106c3f354c747.jpg /kaggle/working/face-detection-dataset/train/labels/814106c3f354c747.txt\n",
      "Doesn't exist one of this: /kaggle/working/face-detection-dataset/train/images/47a0a539e77afba4.jpg /kaggle/working/face-detection-dataset/train/labels/47a0a539e77afba4.txt\n",
      "Doesn't exist one of this: /kaggle/working/face-detection-dataset/train/images/d7831f86cfa678a7.jpg /kaggle/working/face-detection-dataset/train/labels/d7831f86cfa678a7.txt\n",
      "Doesn't exist one of this: /kaggle/working/face-detection-dataset/train/images/1d33c93068df2024.jpg /kaggle/working/face-detection-dataset/train/labels/1d33c93068df2024.txt\n",
      "Doesn't exist one of this: /kaggle/working/face-detection-dataset/train/images/d44f01765d037a76.jpg /kaggle/working/face-detection-dataset/train/labels/d44f01765d037a76.txt\n",
      "Doesn't exist one of this: /kaggle/working/face-detection-dataset/train/images/4bffedfa1f864df1.jpg /kaggle/working/face-detection-dataset/train/labels/4bffedfa1f864df1.txt\n",
      "Doesn't exist one of this: /kaggle/working/face-detection-dataset/train/images/dc1ada75f605517c.jpg /kaggle/working/face-detection-dataset/train/labels/dc1ada75f605517c.txt\n",
      "Doesn't exist one of this: /kaggle/working/face-detection-dataset/train/images/86d93eb2b8865245.jpg /kaggle/working/face-detection-dataset/train/labels/86d93eb2b8865245.txt\n",
      "Doesn't exist one of this: /kaggle/working/face-detection-dataset/train/images/ba2d86f2eb2f5925.jpg /kaggle/working/face-detection-dataset/train/labels/ba2d86f2eb2f5925.txt\n",
      "Doesn't exist one of this: /kaggle/working/face-detection-dataset/train/images/433dfd6a238a9a4a.jpg /kaggle/working/face-detection-dataset/train/labels/433dfd6a238a9a4a.txt\n",
      "Doesn't exist one of this: /kaggle/working/face-detection-dataset/train/images/016f9dada0d772b0.jpg /kaggle/working/face-detection-dataset/train/labels/016f9dada0d772b0.txt\n",
      "Doesn't exist one of this: /kaggle/working/face-detection-dataset/train/images/8955dd99ed584087.jpg /kaggle/working/face-detection-dataset/train/labels/8955dd99ed584087.txt\n",
      "Doesn't exist one of this: /kaggle/working/face-detection-dataset/train/images/5e75c66206289ac8.jpg /kaggle/working/face-detection-dataset/train/labels/5e75c66206289ac8.txt\n",
      "Doesn't exist one of this: /kaggle/working/face-detection-dataset/train/images/b55918221a1836e7.jpg /kaggle/working/face-detection-dataset/train/labels/b55918221a1836e7.txt\n",
      "Doesn't exist one of this: /kaggle/working/face-detection-dataset/train/images/ae873c8e7724b3f3.jpg /kaggle/working/face-detection-dataset/train/labels/ae873c8e7724b3f3.txt\n",
      "Doesn't exist one of this: /kaggle/working/face-detection-dataset/train/images/d4da5bd719f259d2.jpg /kaggle/working/face-detection-dataset/train/labels/d4da5bd719f259d2.txt\n",
      "Doesn't exist one of this: /kaggle/working/face-detection-dataset/train/images/8998ffcbba55a860.jpg /kaggle/working/face-detection-dataset/train/labels/8998ffcbba55a860.txt\n",
      "Doesn't exist one of this: /kaggle/working/face-detection-dataset/train/images/bd30c6a5af89f836.jpg /kaggle/working/face-detection-dataset/train/labels/bd30c6a5af89f836.txt\n",
      "Doesn't exist one of this: /kaggle/working/face-detection-dataset/train/images/09fe5d1038aa12f6.jpg /kaggle/working/face-detection-dataset/train/labels/09fe5d1038aa12f6.txt\n",
      "Doesn't exist one of this: /kaggle/working/face-detection-dataset/train/images/61cb7c9d32e48e01.jpg /kaggle/working/face-detection-dataset/train/labels/61cb7c9d32e48e01.txt\n",
      "Doesn't exist one of this: /kaggle/working/face-detection-dataset/train/images/d1beb74afa235c97.jpg /kaggle/working/face-detection-dataset/train/labels/d1beb74afa235c97.txt\n",
      "Doesn't exist one of this: /kaggle/working/face-detection-dataset/train/images/fef5e89ebd8d23f0.jpg /kaggle/working/face-detection-dataset/train/labels/fef5e89ebd8d23f0.txt\n",
      "Doesn't exist one of this: /kaggle/working/face-detection-dataset/train/images/f1b4c05b75a40100.jpg /kaggle/working/face-detection-dataset/train/labels/f1b4c05b75a40100.txt\n",
      "Doesn't exist one of this: /kaggle/working/face-detection-dataset/train/images/f0565da78a763fab.jpg /kaggle/working/face-detection-dataset/train/labels/f0565da78a763fab.txt\n",
      "Doesn't exist one of this: /kaggle/working/face-detection-dataset/train/images/ab886073735c5f02.jpg /kaggle/working/face-detection-dataset/train/labels/ab886073735c5f02.txt\n",
      "Doesn't exist one of this: /kaggle/working/face-detection-dataset/train/images/16547a1f9db7b1d3.jpg /kaggle/working/face-detection-dataset/train/labels/16547a1f9db7b1d3.txt\n",
      "Doesn't exist one of this: /kaggle/working/face-detection-dataset/train/images/6333169b4cea5d72.jpg /kaggle/working/face-detection-dataset/train/labels/6333169b4cea5d72.txt\n",
      "Doesn't exist one of this: /kaggle/working/face-detection-dataset/train/images/dd066f9330d621fb.jpg /kaggle/working/face-detection-dataset/train/labels/dd066f9330d621fb.txt\n",
      "Doesn't exist one of this: /kaggle/working/face-detection-dataset/train/images/e24c08dec9b3d9ee.jpg /kaggle/working/face-detection-dataset/train/labels/e24c08dec9b3d9ee.txt\n",
      "Doesn't exist one of this: /kaggle/working/face-detection-dataset/train/images/c12fce6fa1fa8059.jpg /kaggle/working/face-detection-dataset/train/labels/c12fce6fa1fa8059.txt\n",
      "Doesn't exist one of this: /kaggle/working/face-detection-dataset/train/images/cfa3aca48b85f614.jpg /kaggle/working/face-detection-dataset/train/labels/cfa3aca48b85f614.txt\n",
      "Doesn't exist one of this: /kaggle/working/face-detection-dataset/train/images/6333169b4cea5d72.jpg /kaggle/working/face-detection-dataset/train/labels/6333169b4cea5d72.txt\n",
      "Doesn't exist one of this: /kaggle/working/face-detection-dataset/train/images/1fd833dbf848f5ea.jpg /kaggle/working/face-detection-dataset/train/labels/1fd833dbf848f5ea.txt\n",
      "Doesn't exist one of this: /kaggle/working/face-detection-dataset/train/images/b17d6638dc055c65.jpg /kaggle/working/face-detection-dataset/train/labels/b17d6638dc055c65.txt\n",
      "Doesn't exist one of this: /kaggle/working/face-detection-dataset/train/images/422910b96a061256.jpg /kaggle/working/face-detection-dataset/train/labels/422910b96a061256.txt\n",
      "Doesn't exist one of this: /kaggle/working/face-detection-dataset/train/images/2ec8c7a8c8093384.jpg /kaggle/working/face-detection-dataset/train/labels/2ec8c7a8c8093384.txt\n",
      "Doesn't exist one of this: /kaggle/working/face-detection-dataset/train/images/e2ae43c641028f57.jpg /kaggle/working/face-detection-dataset/train/labels/e2ae43c641028f57.txt\n",
      "Doesn't exist one of this: /kaggle/working/face-detection-dataset/train/images/1c3318135033c1a6.jpg /kaggle/working/face-detection-dataset/train/labels/1c3318135033c1a6.txt\n",
      "Doesn't exist one of this: /kaggle/working/face-detection-dataset/train/images/0a0d7a87378422e3.jpg /kaggle/working/face-detection-dataset/train/labels/0a0d7a87378422e3.txt\n",
      "Doesn't exist one of this: /kaggle/working/face-detection-dataset/train/images/d87ad85655ea6ece.jpg /kaggle/working/face-detection-dataset/train/labels/d87ad85655ea6ece.txt\n",
      "Doesn't exist one of this: /kaggle/working/face-detection-dataset/train/images/3e129a916f38922a.jpg /kaggle/working/face-detection-dataset/train/labels/3e129a916f38922a.txt\n",
      "Doesn't exist one of this: /kaggle/working/face-detection-dataset/train/images/55fa6b1fad93156e.jpg /kaggle/working/face-detection-dataset/train/labels/55fa6b1fad93156e.txt\n",
      "Doesn't exist one of this: /kaggle/working/face-detection-dataset/train/images/10cdb96476be332d.jpg /kaggle/working/face-detection-dataset/train/labels/10cdb96476be332d.txt\n",
      "Doesn't exist one of this: /kaggle/working/face-detection-dataset/train/images/6b83fa85aae83c8e.jpg /kaggle/working/face-detection-dataset/train/labels/6b83fa85aae83c8e.txt\n",
      "Doesn't exist one of this: /kaggle/working/face-detection-dataset/train/images/f11da65096946974.jpg /kaggle/working/face-detection-dataset/train/labels/f11da65096946974.txt\n",
      "Doesn't exist one of this: /kaggle/working/face-detection-dataset/train/images/513818c322404765.jpg /kaggle/working/face-detection-dataset/train/labels/513818c322404765.txt\n",
      "Doesn't exist one of this: /kaggle/working/face-detection-dataset/train/images/e227ac40ab8c6a2a.jpg /kaggle/working/face-detection-dataset/train/labels/e227ac40ab8c6a2a.txt\n",
      "Doesn't exist one of this: /kaggle/working/face-detection-dataset/train/images/4280704fcdab10d4.jpg /kaggle/working/face-detection-dataset/train/labels/4280704fcdab10d4.txt\n",
      "Doesn't exist one of this: /kaggle/working/face-detection-dataset/train/images/8a20177a9f691ef9.jpg /kaggle/working/face-detection-dataset/train/labels/8a20177a9f691ef9.txt\n",
      "Doesn't exist one of this: /kaggle/working/face-detection-dataset/train/images/8c384089816e387f.jpg /kaggle/working/face-detection-dataset/train/labels/8c384089816e387f.txt\n",
      "Doesn't exist one of this: /kaggle/working/face-detection-dataset/train/images/e8ae9ed29485613b.jpg /kaggle/working/face-detection-dataset/train/labels/e8ae9ed29485613b.txt\n",
      "Doesn't exist one of this: /kaggle/working/face-detection-dataset/train/images/d918d01be6df016f.jpg /kaggle/working/face-detection-dataset/train/labels/d918d01be6df016f.txt\n",
      "Doesn't exist one of this: /kaggle/working/face-detection-dataset/train/images/1d1d83eb06200994.jpg /kaggle/working/face-detection-dataset/train/labels/1d1d83eb06200994.txt\n",
      "Doesn't exist one of this: /kaggle/working/face-detection-dataset/train/images/e643d2da948e8209.jpg /kaggle/working/face-detection-dataset/train/labels/e643d2da948e8209.txt\n",
      "Doesn't exist one of this: /kaggle/working/face-detection-dataset/train/images/0a12fd7c76ac60d2.jpg /kaggle/working/face-detection-dataset/train/labels/0a12fd7c76ac60d2.txt\n",
      "Doesn't exist one of this: /kaggle/working/face-detection-dataset/train/images/91eac93a4734cdb3.jpg /kaggle/working/face-detection-dataset/train/labels/91eac93a4734cdb3.txt\n",
      "Doesn't exist one of this: /kaggle/working/face-detection-dataset/train/images/ab2f520772d33ca3.jpg /kaggle/working/face-detection-dataset/train/labels/ab2f520772d33ca3.txt\n",
      "Doesn't exist one of this: /kaggle/working/face-detection-dataset/train/images/1b7af35ce43dd2c4.jpg /kaggle/working/face-detection-dataset/train/labels/1b7af35ce43dd2c4.txt\n",
      "Doesn't exist one of this: /kaggle/working/face-detection-dataset/train/images/7987115d15ee553d.jpg /kaggle/working/face-detection-dataset/train/labels/7987115d15ee553d.txt\n",
      "Doesn't exist one of this: /kaggle/working/face-detection-dataset/train/images/2bf7842b2e84848e.jpg /kaggle/working/face-detection-dataset/train/labels/2bf7842b2e84848e.txt\n",
      "Doesn't exist one of this: /kaggle/working/face-detection-dataset/train/images/72ed4b73a211efba.jpg /kaggle/working/face-detection-dataset/train/labels/72ed4b73a211efba.txt\n",
      "Doesn't exist one of this: /kaggle/working/face-detection-dataset/train/images/71589c9eeddb1ef1.jpg /kaggle/working/face-detection-dataset/train/labels/71589c9eeddb1ef1.txt\n",
      "Doesn't exist one of this: /kaggle/working/face-detection-dataset/train/images/816b1e25f8d3d3cc.jpg /kaggle/working/face-detection-dataset/train/labels/816b1e25f8d3d3cc.txt\n",
      "Doesn't exist one of this: /kaggle/working/face-detection-dataset/train/images/607cbdcc9236d5c9.jpg /kaggle/working/face-detection-dataset/train/labels/607cbdcc9236d5c9.txt\n",
      "Doesn't exist one of this: /kaggle/working/face-detection-dataset/train/images/0926cbf23c5c160e.jpg /kaggle/working/face-detection-dataset/train/labels/0926cbf23c5c160e.txt\n",
      "Doesn't exist one of this: /kaggle/working/face-detection-dataset/train/images/de9ca35f9736a54e.jpg /kaggle/working/face-detection-dataset/train/labels/de9ca35f9736a54e.txt\n",
      "Doesn't exist one of this: /kaggle/working/face-detection-dataset/train/images/4bffedfa1f864df1.jpg /kaggle/working/face-detection-dataset/train/labels/4bffedfa1f864df1.txt\n",
      "Doesn't exist one of this: /kaggle/working/face-detection-dataset/train/images/9507c64583c41908.jpg /kaggle/working/face-detection-dataset/train/labels/9507c64583c41908.txt\n",
      "Doesn't exist one of this: /kaggle/working/face-detection-dataset/train/images/e1e56f7193cb0066.jpg /kaggle/working/face-detection-dataset/train/labels/e1e56f7193cb0066.txt\n",
      "Doesn't exist one of this: /kaggle/working/face-detection-dataset/train/images/b44ed19171c9990b.jpg /kaggle/working/face-detection-dataset/train/labels/b44ed19171c9990b.txt\n",
      "Doesn't exist one of this: /kaggle/working/face-detection-dataset/train/images/82ac9dbe32c95516.jpg /kaggle/working/face-detection-dataset/train/labels/82ac9dbe32c95516.txt\n",
      "Doesn't exist one of this: /kaggle/working/face-detection-dataset/train/images/6d7336f2769e2e89.jpg /kaggle/working/face-detection-dataset/train/labels/6d7336f2769e2e89.txt\n",
      "Doesn't exist one of this: /kaggle/working/face-detection-dataset/train/images/ba7bc23e166843e0.jpg /kaggle/working/face-detection-dataset/train/labels/ba7bc23e166843e0.txt\n",
      "Doesn't exist one of this: /kaggle/working/face-detection-dataset/train/images/93193d97c2e6dc7c.jpg /kaggle/working/face-detection-dataset/train/labels/93193d97c2e6dc7c.txt\n",
      "Doesn't exist one of this: /kaggle/working/face-detection-dataset/train/images/96745fe0e1c5dc31.jpg /kaggle/working/face-detection-dataset/train/labels/96745fe0e1c5dc31.txt\n",
      "Doesn't exist one of this: /kaggle/working/face-detection-dataset/train/images/71ed327690eae70d.jpg /kaggle/working/face-detection-dataset/train/labels/71ed327690eae70d.txt\n",
      "Doesn't exist one of this: /kaggle/working/face-detection-dataset/train/images/a5d2d08f30ec9ddf.jpg /kaggle/working/face-detection-dataset/train/labels/a5d2d08f30ec9ddf.txt\n",
      "Doesn't exist one of this: /kaggle/working/face-detection-dataset/train/images/0b5868ecb542db8d.jpg /kaggle/working/face-detection-dataset/train/labels/0b5868ecb542db8d.txt\n",
      "Doesn't exist one of this: /kaggle/working/face-detection-dataset/train/images/85f6271123311171.jpg /kaggle/working/face-detection-dataset/train/labels/85f6271123311171.txt\n",
      "Doesn't exist one of this: /kaggle/working/face-detection-dataset/train/images/fecfa078a8508b50.jpg /kaggle/working/face-detection-dataset/train/labels/fecfa078a8508b50.txt\n",
      "Doesn't exist one of this: /kaggle/working/face-detection-dataset/train/images/b23b39386fa99119.jpg /kaggle/working/face-detection-dataset/train/labels/b23b39386fa99119.txt\n",
      "Doesn't exist one of this: /kaggle/working/face-detection-dataset/train/images/924ad2527a02f14e.jpg /kaggle/working/face-detection-dataset/train/labels/924ad2527a02f14e.txt\n",
      "Doesn't exist one of this: /kaggle/working/face-detection-dataset/train/images/08a477b64dc0fec9.jpg /kaggle/working/face-detection-dataset/train/labels/08a477b64dc0fec9.txt\n",
      "Doesn't exist one of this: /kaggle/working/face-detection-dataset/train/images/83fe3611dc7e1f28.jpg /kaggle/working/face-detection-dataset/train/labels/83fe3611dc7e1f28.txt\n",
      "Doesn't exist one of this: /kaggle/working/face-detection-dataset/train/images/25c990a61719c9fb.jpg /kaggle/working/face-detection-dataset/train/labels/25c990a61719c9fb.txt\n",
      "Doesn't exist one of this: /kaggle/working/face-detection-dataset/train/images/b8bfe1e93b820170.jpg /kaggle/working/face-detection-dataset/train/labels/b8bfe1e93b820170.txt\n",
      "Doesn't exist one of this: /kaggle/working/face-detection-dataset/train/images/3be25c86490e796a.jpg /kaggle/working/face-detection-dataset/train/labels/3be25c86490e796a.txt\n",
      "Doesn't exist one of this: /kaggle/working/face-detection-dataset/train/images/c6dc5d9c4fd7302b.jpg /kaggle/working/face-detection-dataset/train/labels/c6dc5d9c4fd7302b.txt\n",
      "Doesn't exist one of this: /kaggle/working/face-detection-dataset/train/images/b2b2954d61e203cc.jpg /kaggle/working/face-detection-dataset/train/labels/b2b2954d61e203cc.txt\n",
      "Doesn't exist one of this: /kaggle/working/face-detection-dataset/train/images/816b1e25f8d3d3cc.jpg /kaggle/working/face-detection-dataset/train/labels/816b1e25f8d3d3cc.txt\n",
      "Doesn't exist one of this: /kaggle/working/face-detection-dataset/train/images/ffa9091747ae2466.jpg /kaggle/working/face-detection-dataset/train/labels/ffa9091747ae2466.txt\n",
      "Doesn't exist one of this: /kaggle/working/face-detection-dataset/train/images/35cb901517499e0a.jpg /kaggle/working/face-detection-dataset/train/labels/35cb901517499e0a.txt\n",
      "Doesn't exist one of this: /kaggle/working/face-detection-dataset/train/images/409eaaee9ea3322e.jpg /kaggle/working/face-detection-dataset/train/labels/409eaaee9ea3322e.txt\n",
      "Doesn't exist one of this: /kaggle/working/face-detection-dataset/train/images/e995385b81f4026a.jpg /kaggle/working/face-detection-dataset/train/labels/e995385b81f4026a.txt\n",
      "Doesn't exist one of this: /kaggle/working/face-detection-dataset/train/images/9e9e4235478e8232.jpg /kaggle/working/face-detection-dataset/train/labels/9e9e4235478e8232.txt\n",
      "Doesn't exist one of this: /kaggle/working/face-detection-dataset/train/images/a7c7c79d33aa46c8.jpg /kaggle/working/face-detection-dataset/train/labels/a7c7c79d33aa46c8.txt\n",
      "Doesn't exist one of this: /kaggle/working/face-detection-dataset/train/images/a8f457a3519d30e5.jpg /kaggle/working/face-detection-dataset/train/labels/a8f457a3519d30e5.txt\n",
      "Doesn't exist one of this: /kaggle/working/face-detection-dataset/train/images/f9733fd9e10a73be.jpg /kaggle/working/face-detection-dataset/train/labels/f9733fd9e10a73be.txt\n",
      "Doesn't exist one of this: /kaggle/working/face-detection-dataset/train/images/8988dcb16ec38e6e.jpg /kaggle/working/face-detection-dataset/train/labels/8988dcb16ec38e6e.txt\n",
      "Doesn't exist one of this: /kaggle/working/face-detection-dataset/train/images/e387cfecf93a8a72.jpg /kaggle/working/face-detection-dataset/train/labels/e387cfecf93a8a72.txt\n",
      "Doesn't exist one of this: /kaggle/working/face-detection-dataset/train/images/a3abc2ffb8f4be80.jpg /kaggle/working/face-detection-dataset/train/labels/a3abc2ffb8f4be80.txt\n",
      "Doesn't exist one of this: /kaggle/working/face-detection-dataset/train/images/549ef751400d0f7d.jpg /kaggle/working/face-detection-dataset/train/labels/549ef751400d0f7d.txt\n",
      "Doesn't exist one of this: /kaggle/working/face-detection-dataset/train/images/db63c5981f95adbc.jpg /kaggle/working/face-detection-dataset/train/labels/db63c5981f95adbc.txt\n",
      "Doesn't exist one of this: /kaggle/working/face-detection-dataset/train/images/cb524a3875721212.jpg /kaggle/working/face-detection-dataset/train/labels/cb524a3875721212.txt\n",
      "Doesn't exist one of this: /kaggle/working/face-detection-dataset/train/images/b3d5641ad25c7aad.jpg /kaggle/working/face-detection-dataset/train/labels/b3d5641ad25c7aad.txt\n",
      "Doesn't exist one of this: /kaggle/working/face-detection-dataset/train/images/0dbf20dd0579944d.jpg /kaggle/working/face-detection-dataset/train/labels/0dbf20dd0579944d.txt\n",
      "Doesn't exist one of this: /kaggle/working/face-detection-dataset/train/images/e5d65c800c10c604.jpg /kaggle/working/face-detection-dataset/train/labels/e5d65c800c10c604.txt\n",
      "Doesn't exist one of this: /kaggle/working/face-detection-dataset/train/images/6fc069ca72b38227.jpg /kaggle/working/face-detection-dataset/train/labels/6fc069ca72b38227.txt\n",
      "Doesn't exist one of this: /kaggle/working/face-detection-dataset/train/images/0f01ab114d76f474.jpg /kaggle/working/face-detection-dataset/train/labels/0f01ab114d76f474.txt\n",
      "Doesn't exist one of this: /kaggle/working/face-detection-dataset/train/images/085e9748b9f611cb.jpg /kaggle/working/face-detection-dataset/train/labels/085e9748b9f611cb.txt\n",
      "Doesn't exist one of this: /kaggle/working/face-detection-dataset/train/images/cd8aefe1c6c5e2b1.jpg /kaggle/working/face-detection-dataset/train/labels/cd8aefe1c6c5e2b1.txt\n",
      "Doesn't exist one of this: /kaggle/working/face-detection-dataset/train/images/13dbaa754680d107.jpg /kaggle/working/face-detection-dataset/train/labels/13dbaa754680d107.txt\n",
      "Doesn't exist one of this: /kaggle/working/face-detection-dataset/train/images/6b2a1f6b8e24025a.jpg /kaggle/working/face-detection-dataset/train/labels/6b2a1f6b8e24025a.txt\n",
      "Doesn't exist one of this: /kaggle/working/face-detection-dataset/train/images/f5d12ca24c42d5e4.jpg /kaggle/working/face-detection-dataset/train/labels/f5d12ca24c42d5e4.txt\n",
      "Doesn't exist one of this: /kaggle/working/face-detection-dataset/train/images/92f88e179329ba86.jpg /kaggle/working/face-detection-dataset/train/labels/92f88e179329ba86.txt\n",
      "Doesn't exist one of this: /kaggle/working/face-detection-dataset/train/images/c08bcde248da99f4.jpg /kaggle/working/face-detection-dataset/train/labels/c08bcde248da99f4.txt\n",
      "Doesn't exist one of this: /kaggle/working/face-detection-dataset/train/images/7222c13da2c65c8a.jpg /kaggle/working/face-detection-dataset/train/labels/7222c13da2c65c8a.txt\n",
      "Doesn't exist one of this: /kaggle/working/face-detection-dataset/train/images/0ca5ab405eb37fbd.jpg /kaggle/working/face-detection-dataset/train/labels/0ca5ab405eb37fbd.txt\n",
      "Doesn't exist one of this: /kaggle/working/face-detection-dataset/train/images/eff1872ca6a6cb67.jpg /kaggle/working/face-detection-dataset/train/labels/eff1872ca6a6cb67.txt\n",
      "Doesn't exist one of this: /kaggle/working/face-detection-dataset/train/images/0660a32352e5dc09.jpg /kaggle/working/face-detection-dataset/train/labels/0660a32352e5dc09.txt\n",
      "Doesn't exist one of this: /kaggle/working/face-detection-dataset/train/images/0fc616e2f30047f5.jpg /kaggle/working/face-detection-dataset/train/labels/0fc616e2f30047f5.txt\n",
      "Doesn't exist one of this: /kaggle/working/face-detection-dataset/train/images/812f65104d132f92.jpg /kaggle/working/face-detection-dataset/train/labels/812f65104d132f92.txt\n",
      "Doesn't exist one of this: /kaggle/working/face-detection-dataset/train/images/a39b6a51a577ba65.jpg /kaggle/working/face-detection-dataset/train/labels/a39b6a51a577ba65.txt\n",
      "Doesn't exist one of this: /kaggle/working/face-detection-dataset/train/images/68c9109f596fd31a.jpg /kaggle/working/face-detection-dataset/train/labels/68c9109f596fd31a.txt\n",
      "Doesn't exist one of this: /kaggle/working/face-detection-dataset/train/images/154c635a2c543c8a.jpg /kaggle/working/face-detection-dataset/train/labels/154c635a2c543c8a.txt\n",
      "Doesn't exist one of this: /kaggle/working/face-detection-dataset/train/images/49850dd79c547c6b.jpg /kaggle/working/face-detection-dataset/train/labels/49850dd79c547c6b.txt\n",
      "Doesn't exist one of this: /kaggle/working/face-detection-dataset/train/images/3f77d3ffd29483da.jpg /kaggle/working/face-detection-dataset/train/labels/3f77d3ffd29483da.txt\n",
      "Doesn't exist one of this: /kaggle/working/face-detection-dataset/train/images/8562a6e18bbec28d.jpg /kaggle/working/face-detection-dataset/train/labels/8562a6e18bbec28d.txt\n",
      "Doesn't exist one of this: /kaggle/working/face-detection-dataset/train/images/11ce2576db67e78f.jpg /kaggle/working/face-detection-dataset/train/labels/11ce2576db67e78f.txt\n",
      "Doesn't exist one of this: /kaggle/working/face-detection-dataset/train/images/04a3c49fd453bfeb.jpg /kaggle/working/face-detection-dataset/train/labels/04a3c49fd453bfeb.txt\n",
      "Doesn't exist one of this: /kaggle/working/face-detection-dataset/train/images/2d1379604ba16515.jpg /kaggle/working/face-detection-dataset/train/labels/2d1379604ba16515.txt\n",
      "Doesn't exist one of this: /kaggle/working/face-detection-dataset/train/images/c2f59b5bf40a8082.jpg /kaggle/working/face-detection-dataset/train/labels/c2f59b5bf40a8082.txt\n",
      "Doesn't exist one of this: /kaggle/working/face-detection-dataset/train/images/e820d69150d84500.jpg /kaggle/working/face-detection-dataset/train/labels/e820d69150d84500.txt\n",
      "Doesn't exist one of this: /kaggle/working/face-detection-dataset/train/images/8c384089816e387f.jpg /kaggle/working/face-detection-dataset/train/labels/8c384089816e387f.txt\n",
      "Doesn't exist one of this: /kaggle/working/face-detection-dataset/train/images/e09c191a9df40a4e.jpg /kaggle/working/face-detection-dataset/train/labels/e09c191a9df40a4e.txt\n",
      "Doesn't exist one of this: /kaggle/working/face-detection-dataset/train/images/a7f16d4b00ede4f6.jpg /kaggle/working/face-detection-dataset/train/labels/a7f16d4b00ede4f6.txt\n",
      "Doesn't exist one of this: /kaggle/working/face-detection-dataset/train/images/47421f2db782ff16.jpg /kaggle/working/face-detection-dataset/train/labels/47421f2db782ff16.txt\n",
      "Doesn't exist one of this: /kaggle/working/face-detection-dataset/train/images/fe4fe8e76239ce35.jpg /kaggle/working/face-detection-dataset/train/labels/fe4fe8e76239ce35.txt\n",
      "Doesn't exist one of this: /kaggle/working/face-detection-dataset/train/images/8c08b73fa4f696ce.jpg /kaggle/working/face-detection-dataset/train/labels/8c08b73fa4f696ce.txt\n",
      "Doesn't exist one of this: /kaggle/working/face-detection-dataset/train/images/977abeb52f880add.jpg /kaggle/working/face-detection-dataset/train/labels/977abeb52f880add.txt\n",
      "Doesn't exist one of this: /kaggle/working/face-detection-dataset/train/images/6cc15a08e71a216a.jpg /kaggle/working/face-detection-dataset/train/labels/6cc15a08e71a216a.txt\n",
      "Doesn't exist one of this: /kaggle/working/face-detection-dataset/train/images/a840346abbc05159.jpg /kaggle/working/face-detection-dataset/train/labels/a840346abbc05159.txt\n",
      "Doesn't exist one of this: /kaggle/working/face-detection-dataset/train/images/0ad15d5ca61be51c.jpg /kaggle/working/face-detection-dataset/train/labels/0ad15d5ca61be51c.txt\n",
      "Doesn't exist one of this: /kaggle/working/face-detection-dataset/train/images/0bb4eb7bf5daed15.jpg /kaggle/working/face-detection-dataset/train/labels/0bb4eb7bf5daed15.txt\n",
      "Doesn't exist one of this: /kaggle/working/face-detection-dataset/train/images/efc106f2dd34da0e.jpg /kaggle/working/face-detection-dataset/train/labels/efc106f2dd34da0e.txt\n",
      "Doesn't exist one of this: /kaggle/working/face-detection-dataset/train/images/20ab4b583a92d254.jpg /kaggle/working/face-detection-dataset/train/labels/20ab4b583a92d254.txt\n",
      "Doesn't exist one of this: /kaggle/working/face-detection-dataset/train/images/2d13dbd8ac5ae326.jpg /kaggle/working/face-detection-dataset/train/labels/2d13dbd8ac5ae326.txt\n",
      "Doesn't exist one of this: /kaggle/working/face-detection-dataset/train/images/513818c322404765.jpg /kaggle/working/face-detection-dataset/train/labels/513818c322404765.txt\n",
      "Doesn't exist one of this: /kaggle/working/face-detection-dataset/train/images/c463d4c406761355.jpg /kaggle/working/face-detection-dataset/train/labels/c463d4c406761355.txt\n",
      "Doesn't exist one of this: /kaggle/working/face-detection-dataset/train/images/352646e43ca8a789.jpg /kaggle/working/face-detection-dataset/train/labels/352646e43ca8a789.txt\n",
      "Doesn't exist one of this: /kaggle/working/face-detection-dataset/train/images/ac77fcd86ede0619.jpg /kaggle/working/face-detection-dataset/train/labels/ac77fcd86ede0619.txt\n",
      "Doesn't exist one of this: /kaggle/working/face-detection-dataset/train/images/031180ffa016647c.jpg /kaggle/working/face-detection-dataset/train/labels/031180ffa016647c.txt\n",
      "Doesn't exist one of this: /kaggle/working/face-detection-dataset/train/images/d710b7dc14f34185.jpg /kaggle/working/face-detection-dataset/train/labels/d710b7dc14f34185.txt\n",
      "Doesn't exist one of this: /kaggle/working/face-detection-dataset/train/images/5b575325db0d6a20.jpg /kaggle/working/face-detection-dataset/train/labels/5b575325db0d6a20.txt\n",
      "Doesn't exist one of this: /kaggle/working/face-detection-dataset/train/images/199025bef4a0e0be.jpg /kaggle/working/face-detection-dataset/train/labels/199025bef4a0e0be.txt\n",
      "Doesn't exist one of this: /kaggle/working/face-detection-dataset/train/images/66b8674539c36e9a.jpg /kaggle/working/face-detection-dataset/train/labels/66b8674539c36e9a.txt\n",
      "Doesn't exist one of this: /kaggle/working/face-detection-dataset/train/images/de3a8d3911c10015.jpg /kaggle/working/face-detection-dataset/train/labels/de3a8d3911c10015.txt\n",
      "Doesn't exist one of this: /kaggle/working/face-detection-dataset/train/images/6a3161432b2a76ba.jpg /kaggle/working/face-detection-dataset/train/labels/6a3161432b2a76ba.txt\n",
      "Doesn't exist one of this: /kaggle/working/face-detection-dataset/train/images/5882f253621ae562.jpg /kaggle/working/face-detection-dataset/train/labels/5882f253621ae562.txt\n",
      "Doesn't exist one of this: /kaggle/working/face-detection-dataset/train/images/9a059f75f997a39f.jpg /kaggle/working/face-detection-dataset/train/labels/9a059f75f997a39f.txt\n"
     ]
    }
   ],
   "source": [
    "# Get filenames from /train for /test with corresponds of test fraction (TEST_SPLIT_FRACTION).\n",
    "\n",
    "train_image_names = [file_name for file_name in os.scandir(os.path.join(DATA_DEST_DIR, \"train\", \"images\"))]\n",
    "test_split_count = int(len(train_image_names) * TEST_SPLIT_FRACTION)\n",
    "idxs = np.random.randint(0, high=len(train_image_names), size=test_split_count, dtype=int)\n",
    "\n",
    "for idx in idxs:\n",
    "    # Image.\n",
    "    image_filename = train_image_names[idx].name\n",
    "    image_train_path = os.path.join(DATA_DEST_DIR, \"train\", \"images\", image_filename)\n",
    "    image_test_path = os.path.join(DATA_DEST_DIR, \"test\", \"images\", image_filename)\n",
    "\n",
    "    # Label.\n",
    "    label_filename = train_image_names[idx].name.split(\".\")[0] + \".txt\"\n",
    "    label_train_path = os.path.join(DATA_DEST_DIR, \"train\", \"labels\", label_filename)\n",
    "    label_test_path = os.path.join(DATA_DEST_DIR, \"test\", \"labels\", label_filename)\n",
    "\n",
    "    if os.path.exists(image_train_path) and os.path.exists(label_train_path):\n",
    "        shutil.move(image_train_path, image_test_path, copy_function=shutil.copy)        \n",
    "        shutil.move(label_train_path, label_test_path, copy_function=shutil.copy)\n",
    "    else: print(\"Doesn't exist one of this:\", image_train_path, label_train_path)"
   ]
  },
  {
   "cell_type": "markdown",
   "metadata": {},
   "source": [
    "### Check if everything is ok with test split."
   ]
  },
  {
   "cell_type": "code",
   "execution_count": 4,
   "metadata": {
    "execution": {
     "iopub.execute_input": "2024-08-22T02:03:01.233211Z",
     "iopub.status.busy": "2024-08-22T02:03:01.232340Z",
     "iopub.status.idle": "2024-08-22T02:03:01.244760Z",
     "shell.execute_reply": "2024-08-22T02:03:01.243949Z",
     "shell.execute_reply.started": "2024-08-22T02:03:01.233174Z"
    }
   },
   "outputs": [],
   "source": [
    "test_image_names = [file_name.name.split(\".\")[0] for file_name in os.scandir(os.path.join(DATA_DEST_DIR, \"test\", \"images\"))]\n",
    "test_label_names = [file_name.name.split(\".\")[0] for file_name in os.scandir(os.path.join(DATA_DEST_DIR, \"test\", \"labels\"))]"
   ]
  },
  {
   "cell_type": "code",
   "execution_count": 5,
   "metadata": {
    "execution": {
     "iopub.execute_input": "2024-08-22T02:03:02.066339Z",
     "iopub.status.busy": "2024-08-22T02:03:02.065957Z",
     "iopub.status.idle": "2024-08-22T02:03:02.073937Z",
     "shell.execute_reply": "2024-08-22T02:03:02.072954Z",
     "shell.execute_reply.started": "2024-08-22T02:03:02.066308Z"
    }
   },
   "outputs": [
    {
     "data": {
      "text/plain": [
       "(2939, 2939, True)"
      ]
     },
     "execution_count": 5,
     "metadata": {},
     "output_type": "execute_result"
    }
   ],
   "source": [
    "len(test_image_names), len(test_label_names), len(test_image_names) == len(test_label_names)"
   ]
  },
  {
   "cell_type": "code",
   "execution_count": 6,
   "metadata": {
    "execution": {
     "iopub.execute_input": "2024-08-22T02:03:06.276265Z",
     "iopub.status.busy": "2024-08-22T02:03:06.275536Z",
     "iopub.status.idle": "2024-08-22T02:03:06.282603Z",
     "shell.execute_reply": "2024-08-22T02:03:06.281485Z",
     "shell.execute_reply.started": "2024-08-22T02:03:06.276233Z"
    }
   },
   "outputs": [
    {
     "name": "stdout",
     "output_type": "stream",
     "text": [
      "[]\n"
     ]
    }
   ],
   "source": [
    "# Convert lists to sets\n",
    "set1 = set(test_image_names)\n",
    "set2 = set(test_label_names)\n",
    "\n",
    "# Difference (elements in set1 not in set2)\n",
    "difference = set1 - set2\n",
    "print(list(difference))"
   ]
  },
  {
   "cell_type": "markdown",
   "metadata": {},
   "source": [
    "### Create data.yaml"
   ]
  },
  {
   "cell_type": "code",
   "execution_count": 10,
   "metadata": {
    "execution": {
     "iopub.execute_input": "2024-08-21T18:28:45.100888Z",
     "iopub.status.busy": "2024-08-21T18:28:45.099775Z",
     "iopub.status.idle": "2024-08-21T18:28:45.107888Z",
     "shell.execute_reply": "2024-08-21T18:28:45.106875Z",
     "shell.execute_reply.started": "2024-08-21T18:28:45.100853Z"
    }
   },
   "outputs": [],
   "source": [
    "dataset_config = {\n",
    "    \"names\": [\"face\"],\n",
    "    \"nc\": 1,  \n",
    "    \"train\": os.path.join(DATA_DEST_DIR, \"train/images\"),  \n",
    "    \"val\": os.path.join(DATA_DEST_DIR, \"val/images\"),\n",
    "    \"test\": os.path.join(DATA_DEST_DIR, \"test/images\")\n",
    "}\n",
    "\n",
    "with open(\"data.yaml\", \"w\") as file:\n",
    "    yaml.dump(dataset_config, file, default_flow_style=False)"
   ]
  },
  {
   "cell_type": "markdown",
   "metadata": {},
   "source": [
    "## Train model."
   ]
  },
  {
   "cell_type": "code",
   "execution_count": 3,
   "metadata": {
    "collapsed": true,
    "execution": {
     "iopub.execute_input": "2024-08-22T07:43:17.797859Z",
     "iopub.status.busy": "2024-08-22T07:43:17.797353Z",
     "iopub.status.idle": "2024-08-22T10:14:56.903142Z",
     "shell.execute_reply": "2024-08-22T10:14:56.901892Z",
     "shell.execute_reply.started": "2024-08-22T07:43:17.797828Z"
    },
    "jupyter": {
     "outputs_hidden": true
    }
   },
   "outputs": [
    {
     "name": "stdout",
     "output_type": "stream",
     "text": [
      "Ultralytics YOLOv8.2.79 🚀 Python-3.10.13 torch-2.1.2 CUDA:0 (Tesla P100-PCIE-16GB, 16269MiB)\n",
      "\u001b[34m\u001b[1mengine/trainer: \u001b[0mtask=detect, mode=train, model=/kaggle/working/face_detection/yolov8m_face_detection_s640_e30-50/weights/yolov8m_face_detection_e50_s640_best.pt, data=data.yaml, epochs=20, time=None, patience=100, batch=-1, imgsz=640, save=True, save_period=-1, cache=True, device=0, workers=8, project=face_detection, name=yolov8m_face_detection_s640_e50-703, exist_ok=False, pretrained=True, optimizer=auto, verbose=True, seed=0, deterministic=True, single_cls=False, rect=False, cos_lr=False, close_mosaic=10, resume=False, amp=True, fraction=1.0, profile=False, freeze=None, multi_scale=False, overlap_mask=True, mask_ratio=4, dropout=0.0, val=True, split=val, save_json=False, save_hybrid=False, conf=None, iou=0.7, max_det=300, half=False, dnn=False, plots=True, source=None, vid_stride=1, stream_buffer=False, visualize=False, augment=False, agnostic_nms=False, classes=None, retina_masks=False, embed=None, show=False, save_frames=False, save_txt=False, save_conf=False, save_crop=False, show_labels=True, show_conf=True, show_boxes=True, line_width=None, format=torchscript, keras=False, optimize=False, int8=False, dynamic=False, simplify=False, opset=None, workspace=4, nms=False, lr0=0.01, lrf=0.01, momentum=0.937, weight_decay=0.0005, warmup_epochs=3.0, warmup_momentum=0.8, warmup_bias_lr=0.1, box=7.5, cls=0.5, dfl=1.5, pose=12.0, kobj=1.0, label_smoothing=0.0, nbs=64, hsv_h=0.015, hsv_s=0.7, hsv_v=0.4, degrees=0.0, translate=0.1, scale=0.5, shear=0.0, perspective=0.0, flipud=0.0, fliplr=0.5, bgr=0.0, mosaic=1.0, mixup=0.0, copy_paste=0.0, auto_augment=randaugment, erasing=0.4, crop_fraction=1.0, cfg=None, tracker=botsort.yaml, save_dir=face_detection/yolov8m_face_detection_s640_e50-703\n",
      "Downloading https://ultralytics.com/assets/Arial.ttf to '/root/.config/Ultralytics/Arial.ttf'...\n"
     ]
    },
    {
     "name": "stderr",
     "output_type": "stream",
     "text": [
      "100%|██████████| 755k/755k [00:00<00:00, 14.0MB/s]\n",
      "2024-08-22 07:43:19,641\tINFO util.py:124 -- Outdated packages:\n",
      "  ipywidgets==7.7.1 found, needs ipywidgets>=8\n",
      "Run `pip install -U ipywidgets`, then restart the notebook server for rich notebook output.\n",
      "2024-08-22 07:43:21,037\tINFO util.py:124 -- Outdated packages:\n",
      "  ipywidgets==7.7.1 found, needs ipywidgets>=8\n",
      "Run `pip install -U ipywidgets`, then restart the notebook server for rich notebook output.\n"
     ]
    },
    {
     "name": "stdout",
     "output_type": "stream",
     "text": [
      "\n",
      "                   from  n    params  module                                       arguments                     \n",
      "  0                  -1  1      1392  ultralytics.nn.modules.conv.Conv             [3, 48, 3, 2]                 \n",
      "  1                  -1  1     41664  ultralytics.nn.modules.conv.Conv             [48, 96, 3, 2]                \n",
      "  2                  -1  2    111360  ultralytics.nn.modules.block.C2f             [96, 96, 2, True]             \n",
      "  3                  -1  1    166272  ultralytics.nn.modules.conv.Conv             [96, 192, 3, 2]               \n",
      "  4                  -1  4    813312  ultralytics.nn.modules.block.C2f             [192, 192, 4, True]           \n",
      "  5                  -1  1    664320  ultralytics.nn.modules.conv.Conv             [192, 384, 3, 2]              \n",
      "  6                  -1  4   3248640  ultralytics.nn.modules.block.C2f             [384, 384, 4, True]           \n",
      "  7                  -1  1   1991808  ultralytics.nn.modules.conv.Conv             [384, 576, 3, 2]              \n",
      "  8                  -1  2   3985920  ultralytics.nn.modules.block.C2f             [576, 576, 2, True]           \n",
      "  9                  -1  1    831168  ultralytics.nn.modules.block.SPPF            [576, 576, 5]                 \n",
      " 10                  -1  1         0  torch.nn.modules.upsampling.Upsample         [None, 2, 'nearest']          \n",
      " 11             [-1, 6]  1         0  ultralytics.nn.modules.conv.Concat           [1]                           \n",
      " 12                  -1  2   1993728  ultralytics.nn.modules.block.C2f             [960, 384, 2]                 \n",
      " 13                  -1  1         0  torch.nn.modules.upsampling.Upsample         [None, 2, 'nearest']          \n",
      " 14             [-1, 4]  1         0  ultralytics.nn.modules.conv.Concat           [1]                           \n",
      " 15                  -1  2    517632  ultralytics.nn.modules.block.C2f             [576, 192, 2]                 \n",
      " 16                  -1  1    332160  ultralytics.nn.modules.conv.Conv             [192, 192, 3, 2]              \n",
      " 17            [-1, 12]  1         0  ultralytics.nn.modules.conv.Concat           [1]                           \n",
      " 18                  -1  2   1846272  ultralytics.nn.modules.block.C2f             [576, 384, 2]                 \n",
      " 19                  -1  1   1327872  ultralytics.nn.modules.conv.Conv             [384, 384, 3, 2]              \n",
      " 20             [-1, 9]  1         0  ultralytics.nn.modules.conv.Concat           [1]                           \n",
      " 21                  -1  2   4207104  ultralytics.nn.modules.block.C2f             [960, 576, 2]                 \n",
      " 22        [15, 18, 21]  1   3776275  ultralytics.nn.modules.head.Detect           [1, [192, 384, 576]]          \n",
      "Model summary: 295 layers, 25,856,899 parameters, 25,856,883 gradients, 79.1 GFLOPs\n",
      "\n",
      "Transferred 475/475 items from pretrained weights\n",
      "\u001b[34m\u001b[1mTensorBoard: \u001b[0mStart with 'tensorboard --logdir face_detection/yolov8m_face_detection_s640_e50-703', view at http://localhost:6006/\n"
     ]
    },
    {
     "name": "stderr",
     "output_type": "stream",
     "text": [
      "\u001b[34m\u001b[1mwandb\u001b[0m: Logging into wandb.ai. (Learn how to deploy a W&B server locally: https://wandb.me/wandb-server)\n",
      "\u001b[34m\u001b[1mwandb\u001b[0m: You can find your API key in your browser here: https://wandb.ai/authorize\n",
      "\u001b[34m\u001b[1mwandb\u001b[0m: Paste an API key from your profile and hit enter, or press ctrl+c to quit:"
     ]
    },
    {
     "name": "stdin",
     "output_type": "stream",
     "text": [
      "  ········································\n"
     ]
    },
    {
     "name": "stderr",
     "output_type": "stream",
     "text": [
      "\u001b[34m\u001b[1mwandb\u001b[0m: Appending key for api.wandb.ai to your netrc file: /root/.netrc\n"
     ]
    },
    {
     "data": {
      "text/html": [
       "wandb version 0.17.7 is available!  To upgrade, please run:\n",
       " $ pip install wandb --upgrade"
      ],
      "text/plain": [
       "<IPython.core.display.HTML object>"
      ]
     },
     "metadata": {},
     "output_type": "display_data"
    },
    {
     "data": {
      "text/html": [
       "Tracking run with wandb version 0.17.4"
      ],
      "text/plain": [
       "<IPython.core.display.HTML object>"
      ]
     },
     "metadata": {},
     "output_type": "display_data"
    },
    {
     "data": {
      "text/html": [
       "Run data is saved locally in <code>/kaggle/working/wandb/run-20240822_074401-d1vg9we4</code>"
      ],
      "text/plain": [
       "<IPython.core.display.HTML object>"
      ]
     },
     "metadata": {},
     "output_type": "display_data"
    },
    {
     "data": {
      "text/html": [
       "Syncing run <strong><a href='https://wandb.ai/volkov-maxim/face_detection/runs/d1vg9we4' target=\"_blank\">yolov8m_face_detection_s640_e50-703</a></strong> to <a href='https://wandb.ai/volkov-maxim/face_detection' target=\"_blank\">Weights & Biases</a> (<a href='https://wandb.me/run' target=\"_blank\">docs</a>)<br/>"
      ],
      "text/plain": [
       "<IPython.core.display.HTML object>"
      ]
     },
     "metadata": {},
     "output_type": "display_data"
    },
    {
     "data": {
      "text/html": [
       " View project at <a href='https://wandb.ai/volkov-maxim/face_detection' target=\"_blank\">https://wandb.ai/volkov-maxim/face_detection</a>"
      ],
      "text/plain": [
       "<IPython.core.display.HTML object>"
      ]
     },
     "metadata": {},
     "output_type": "display_data"
    },
    {
     "data": {
      "text/html": [
       " View run at <a href='https://wandb.ai/volkov-maxim/face_detection/runs/d1vg9we4' target=\"_blank\">https://wandb.ai/volkov-maxim/face_detection/runs/d1vg9we4</a>"
      ],
      "text/plain": [
       "<IPython.core.display.HTML object>"
      ]
     },
     "metadata": {},
     "output_type": "display_data"
    },
    {
     "name": "stdout",
     "output_type": "stream",
     "text": [
      "Freezing layer 'model.22.dfl.conv.weight'\n",
      "\u001b[34m\u001b[1mAMP: \u001b[0mrunning Automatic Mixed Precision (AMP) checks with YOLOv8n...\n",
      "\u001b[34m\u001b[1mAMP: \u001b[0mchecks passed ✅\n",
      "\u001b[34m\u001b[1mAutoBatch: \u001b[0mComputing optimal batch size for imgsz=640 at 60.0% CUDA memory utilization.\n",
      "\u001b[34m\u001b[1mAutoBatch: \u001b[0mCUDA:0 (Tesla P100-PCIE-16GB) 15.89G total, 0.26G reserved, 0.24G allocated, 15.39G free\n",
      "      Params      GFLOPs  GPU_mem (GB)  forward (ms) backward (ms)                   input                  output\n",
      "    25856899       79.07         0.696         39.62         75.77        (1, 3, 640, 640)                    list\n",
      "    25856899       158.1         1.021         30.73         60.97        (2, 3, 640, 640)                    list\n",
      "    25856899       316.3         2.164         52.17         101.6        (4, 3, 640, 640)                    list\n",
      "    25856899       632.5         3.643         96.65         128.9        (8, 3, 640, 640)                    list\n",
      "    25856899        1265         6.556         165.7         209.7       (16, 3, 640, 640)                    list\n",
      "\u001b[34m\u001b[1mAutoBatch: \u001b[0mUsing batch-size 22 for CUDA:0 9.49G/15.89G (60%) ✅\n"
     ]
    },
    {
     "name": "stderr",
     "output_type": "stream",
     "text": [
      "\u001b[34m\u001b[1mtrain: \u001b[0mScanning /kaggle/working/face-detection-dataset/train/labels.cache... 10447 images, 0 backgrounds, 0 corrupt: 100%|██████████| 10447/10447 [00:00<?, ?it/s]\n",
      "\u001b[34m\u001b[1mtrain: \u001b[0mCaching images (8.6GB RAM): 100%|██████████| 10447/10447 [00:41<00:00, 248.83it/s]\n"
     ]
    },
    {
     "name": "stdout",
     "output_type": "stream",
     "text": [
      "\u001b[34m\u001b[1malbumentations: \u001b[0mBlur(p=0.01, blur_limit=(3, 7)), MedianBlur(p=0.01, blur_limit=(3, 7)), ToGray(p=0.01), CLAHE(p=0.01, clip_limit=(1, 4.0), tile_grid_size=(8, 8))\n"
     ]
    },
    {
     "name": "stderr",
     "output_type": "stream",
     "text": [
      "/opt/conda/lib/python3.10/multiprocessing/popen_fork.py:66: RuntimeWarning: os.fork() was called. os.fork() is incompatible with multithreaded code, and JAX is multithreaded, so this will likely lead to a deadlock.\n",
      "  self.pid = os.fork()\n",
      "\u001b[34m\u001b[1mval: \u001b[0mScanning /kaggle/working/face-detection-dataset/val/labels.cache... 3347 images, 0 backgrounds, 0 corrupt: 100%|██████████| 3347/3347 [00:00<?, ?it/s]\n",
      "\u001b[34m\u001b[1mval: \u001b[0mCaching images (2.7GB RAM): 100%|██████████| 3347/3347 [00:14<00:00, 236.49it/s]\n"
     ]
    },
    {
     "name": "stdout",
     "output_type": "stream",
     "text": [
      "Plotting labels to face_detection/yolov8m_face_detection_s640_e50-703/labels.jpg... \n",
      "\u001b[34m\u001b[1moptimizer:\u001b[0m 'optimizer=auto' found, ignoring 'lr0=0.01' and 'momentum=0.937' and determining best 'optimizer', 'lr0' and 'momentum' automatically... \n",
      "\u001b[34m\u001b[1moptimizer:\u001b[0m AdamW(lr=0.002, momentum=0.9) with parameter groups 77 weight(decay=0.0), 84 weight(decay=0.000515625), 83 bias(decay=0.0)\n",
      "\u001b[34m\u001b[1mTensorBoard: \u001b[0mmodel graph visualization added ✅\n",
      "Image sizes 640 train, 640 val\n",
      "Using 4 dataloader workers\n",
      "Logging results to \u001b[1mface_detection/yolov8m_face_detection_s640_e50-703\u001b[0m\n",
      "Starting training for 20 epochs...\n",
      "\n",
      "      Epoch    GPU_mem   box_loss   cls_loss   dfl_loss  Instances       Size\n"
     ]
    },
    {
     "name": "stderr",
     "output_type": "stream",
     "text": [
      "       1/20      10.8G     0.5094     0.2919     0.8836        127        640: 100%|██████████| 475/475 [06:53<00:00,  1.15it/s]\n",
      "                 Class     Images  Instances      Box(P          R      mAP50  mAP50-95): 100%|██████████| 77/77 [00:39<00:00,  1.94it/s]\n"
     ]
    },
    {
     "name": "stdout",
     "output_type": "stream",
     "text": [
      "                   all       3347      10299      0.877      0.817      0.878      0.582\n",
      "\n",
      "      Epoch    GPU_mem   box_loss   cls_loss   dfl_loss  Instances       Size\n"
     ]
    },
    {
     "name": "stderr",
     "output_type": "stream",
     "text": [
      "       2/20      10.7G     0.4602     0.2726      0.869         68        640: 100%|██████████| 475/475 [06:46<00:00,  1.17it/s]\n",
      "                 Class     Images  Instances      Box(P          R      mAP50  mAP50-95): 100%|██████████| 77/77 [00:38<00:00,  2.02it/s]"
     ]
    },
    {
     "name": "stdout",
     "output_type": "stream",
     "text": [
      "                   all       3347      10299      0.873      0.817       0.87      0.566\n"
     ]
    },
    {
     "name": "stderr",
     "output_type": "stream",
     "text": [
      "\n"
     ]
    },
    {
     "name": "stdout",
     "output_type": "stream",
     "text": [
      "\n",
      "      Epoch    GPU_mem   box_loss   cls_loss   dfl_loss  Instances       Size\n"
     ]
    },
    {
     "name": "stderr",
     "output_type": "stream",
     "text": [
      "       3/20      10.6G     0.4831     0.2903     0.8732        109        640: 100%|██████████| 475/475 [06:44<00:00,  1.17it/s]\n",
      "                 Class     Images  Instances      Box(P          R      mAP50  mAP50-95): 100%|██████████| 77/77 [00:38<00:00,  2.00it/s]"
     ]
    },
    {
     "name": "stdout",
     "output_type": "stream",
     "text": [
      "                   all       3347      10299      0.887      0.786       0.86      0.556\n"
     ]
    },
    {
     "name": "stderr",
     "output_type": "stream",
     "text": [
      "\n"
     ]
    },
    {
     "name": "stdout",
     "output_type": "stream",
     "text": [
      "\n",
      "      Epoch    GPU_mem   box_loss   cls_loss   dfl_loss  Instances       Size\n"
     ]
    },
    {
     "name": "stderr",
     "output_type": "stream",
     "text": [
      "       4/20      10.8G     0.4825     0.2901     0.8728         88        640: 100%|██████████| 475/475 [06:43<00:00,  1.18it/s]\n",
      "                 Class     Images  Instances      Box(P          R      mAP50  mAP50-95): 100%|██████████| 77/77 [00:38<00:00,  2.00it/s]"
     ]
    },
    {
     "name": "stdout",
     "output_type": "stream",
     "text": [
      "                   all       3347      10299      0.879      0.804      0.862      0.557\n"
     ]
    },
    {
     "name": "stderr",
     "output_type": "stream",
     "text": [
      "\n"
     ]
    },
    {
     "name": "stdout",
     "output_type": "stream",
     "text": [
      "\n",
      "      Epoch    GPU_mem   box_loss   cls_loss   dfl_loss  Instances       Size\n"
     ]
    },
    {
     "name": "stderr",
     "output_type": "stream",
     "text": [
      "       5/20      10.6G     0.4794     0.2853     0.8723        127        640: 100%|██████████| 475/475 [06:43<00:00,  1.18it/s]\n",
      "                 Class     Images  Instances      Box(P          R      mAP50  mAP50-95): 100%|██████████| 77/77 [00:38<00:00,  2.01it/s]"
     ]
    },
    {
     "name": "stdout",
     "output_type": "stream",
     "text": [
      "                   all       3347      10299      0.881      0.798      0.861      0.556\n"
     ]
    },
    {
     "name": "stderr",
     "output_type": "stream",
     "text": [
      "\n"
     ]
    },
    {
     "name": "stdout",
     "output_type": "stream",
     "text": [
      "\n",
      "      Epoch    GPU_mem   box_loss   cls_loss   dfl_loss  Instances       Size\n"
     ]
    },
    {
     "name": "stderr",
     "output_type": "stream",
     "text": [
      "       6/20      10.8G     0.4679       0.28     0.8683         76        640: 100%|██████████| 475/475 [06:43<00:00,  1.18it/s]\n",
      "                 Class     Images  Instances      Box(P          R      mAP50  mAP50-95): 100%|██████████| 77/77 [00:38<00:00,  2.00it/s]"
     ]
    },
    {
     "name": "stdout",
     "output_type": "stream",
     "text": [
      "                   all       3347      10299      0.863      0.797      0.856      0.542\n"
     ]
    },
    {
     "name": "stderr",
     "output_type": "stream",
     "text": [
      "\n"
     ]
    },
    {
     "name": "stdout",
     "output_type": "stream",
     "text": [
      "\n",
      "      Epoch    GPU_mem   box_loss   cls_loss   dfl_loss  Instances       Size\n"
     ]
    },
    {
     "name": "stderr",
     "output_type": "stream",
     "text": [
      "       7/20      10.8G     0.4548     0.2747     0.8646         83        640: 100%|██████████| 475/475 [06:43<00:00,  1.18it/s]\n",
      "                 Class     Images  Instances      Box(P          R      mAP50  mAP50-95): 100%|██████████| 77/77 [00:38<00:00,  2.01it/s]"
     ]
    },
    {
     "name": "stdout",
     "output_type": "stream",
     "text": [
      "                   all       3347      10299      0.888      0.788      0.863       0.56\n"
     ]
    },
    {
     "name": "stderr",
     "output_type": "stream",
     "text": [
      "\n"
     ]
    },
    {
     "name": "stdout",
     "output_type": "stream",
     "text": [
      "\n",
      "      Epoch    GPU_mem   box_loss   cls_loss   dfl_loss  Instances       Size\n"
     ]
    },
    {
     "name": "stderr",
     "output_type": "stream",
     "text": [
      "       8/20      10.7G     0.4446     0.2655     0.8619        100        640: 100%|██████████| 475/475 [06:43<00:00,  1.18it/s]\n",
      "                 Class     Images  Instances      Box(P          R      mAP50  mAP50-95): 100%|██████████| 77/77 [00:38<00:00,  2.00it/s]"
     ]
    },
    {
     "name": "stdout",
     "output_type": "stream",
     "text": [
      "                   all       3347      10299      0.882      0.804      0.866      0.558\n"
     ]
    },
    {
     "name": "stderr",
     "output_type": "stream",
     "text": [
      "\n"
     ]
    },
    {
     "name": "stdout",
     "output_type": "stream",
     "text": [
      "\n",
      "      Epoch    GPU_mem   box_loss   cls_loss   dfl_loss  Instances       Size\n"
     ]
    },
    {
     "name": "stderr",
     "output_type": "stream",
     "text": [
      "       9/20      10.8G     0.4424      0.263     0.8618        108        640: 100%|██████████| 475/475 [06:43<00:00,  1.18it/s]\n",
      "                 Class     Images  Instances      Box(P          R      mAP50  mAP50-95): 100%|██████████| 77/77 [00:38<00:00,  2.01it/s]"
     ]
    },
    {
     "name": "stdout",
     "output_type": "stream",
     "text": [
      "                   all       3347      10299       0.88      0.804      0.864      0.565\n"
     ]
    },
    {
     "name": "stderr",
     "output_type": "stream",
     "text": [
      "\n"
     ]
    },
    {
     "name": "stdout",
     "output_type": "stream",
     "text": [
      "\n",
      "      Epoch    GPU_mem   box_loss   cls_loss   dfl_loss  Instances       Size\n"
     ]
    },
    {
     "name": "stderr",
     "output_type": "stream",
     "text": [
      "      10/20      10.8G     0.4315     0.2579     0.8602        131        640: 100%|██████████| 475/475 [06:43<00:00,  1.18it/s]\n",
      "                 Class     Images  Instances      Box(P          R      mAP50  mAP50-95): 100%|██████████| 77/77 [00:38<00:00,  2.01it/s]"
     ]
    },
    {
     "name": "stdout",
     "output_type": "stream",
     "text": [
      "                   all       3347      10299       0.88      0.802      0.865      0.561\n"
     ]
    },
    {
     "name": "stderr",
     "output_type": "stream",
     "text": [
      "\n"
     ]
    },
    {
     "name": "stdout",
     "output_type": "stream",
     "text": [
      "Closing dataloader mosaic\n",
      "\u001b[34m\u001b[1malbumentations: \u001b[0mBlur(p=0.01, blur_limit=(3, 7)), MedianBlur(p=0.01, blur_limit=(3, 7)), ToGray(p=0.01), CLAHE(p=0.01, clip_limit=(1, 4.0), tile_grid_size=(8, 8))\n"
     ]
    },
    {
     "name": "stderr",
     "output_type": "stream",
     "text": [
      "/opt/conda/lib/python3.10/multiprocessing/popen_fork.py:66: RuntimeWarning: os.fork() was called. os.fork() is incompatible with multithreaded code, and JAX is multithreaded, so this will likely lead to a deadlock.\n",
      "  self.pid = os.fork()\n",
      "/opt/conda/lib/python3.10/multiprocessing/popen_fork.py:66: RuntimeWarning: os.fork() was called. os.fork() is incompatible with multithreaded code, and JAX is multithreaded, so this will likely lead to a deadlock.\n",
      "  self.pid = os.fork()\n"
     ]
    },
    {
     "name": "stdout",
     "output_type": "stream",
     "text": [
      "\n",
      "      Epoch    GPU_mem   box_loss   cls_loss   dfl_loss  Instances       Size\n"
     ]
    },
    {
     "name": "stderr",
     "output_type": "stream",
     "text": [
      "      11/20      10.7G      1.095      0.527      1.112         66        640: 100%|██████████| 475/475 [06:44<00:00,  1.18it/s]\n",
      "                 Class     Images  Instances      Box(P          R      mAP50  mAP50-95): 100%|██████████| 77/77 [00:38<00:00,  2.00it/s]"
     ]
    },
    {
     "name": "stdout",
     "output_type": "stream",
     "text": [
      "                   all       3347      10299       0.88      0.807      0.868      0.573\n"
     ]
    },
    {
     "name": "stderr",
     "output_type": "stream",
     "text": [
      "\n"
     ]
    },
    {
     "name": "stdout",
     "output_type": "stream",
     "text": [
      "\n",
      "      Epoch    GPU_mem   box_loss   cls_loss   dfl_loss  Instances       Size\n"
     ]
    },
    {
     "name": "stderr",
     "output_type": "stream",
     "text": [
      "      12/20      10.8G      1.081     0.5127      1.105         43        640: 100%|██████████| 475/475 [06:43<00:00,  1.18it/s]\n",
      "                 Class     Images  Instances      Box(P          R      mAP50  mAP50-95): 100%|██████████| 77/77 [00:38<00:00,  2.00it/s]"
     ]
    },
    {
     "name": "stdout",
     "output_type": "stream",
     "text": [
      "                   all       3347      10299      0.889      0.803      0.876      0.579\n"
     ]
    },
    {
     "name": "stderr",
     "output_type": "stream",
     "text": [
      "\n"
     ]
    },
    {
     "name": "stdout",
     "output_type": "stream",
     "text": [
      "\n",
      "      Epoch    GPU_mem   box_loss   cls_loss   dfl_loss  Instances       Size\n"
     ]
    },
    {
     "name": "stderr",
     "output_type": "stream",
     "text": [
      "      13/20      10.8G      1.067     0.4975      1.093         44        640: 100%|██████████| 475/475 [06:43<00:00,  1.18it/s]\n",
      "                 Class     Images  Instances      Box(P          R      mAP50  mAP50-95): 100%|██████████| 77/77 [00:38<00:00,  2.01it/s]"
     ]
    },
    {
     "name": "stdout",
     "output_type": "stream",
     "text": [
      "                   all       3347      10299      0.896      0.802      0.879      0.582\n"
     ]
    },
    {
     "name": "stderr",
     "output_type": "stream",
     "text": [
      "\n"
     ]
    },
    {
     "name": "stdout",
     "output_type": "stream",
     "text": [
      "\n",
      "      Epoch    GPU_mem   box_loss   cls_loss   dfl_loss  Instances       Size\n"
     ]
    },
    {
     "name": "stderr",
     "output_type": "stream",
     "text": [
      "      14/20      10.7G      1.065     0.4917      1.085         37        640: 100%|██████████| 475/475 [06:42<00:00,  1.18it/s]\n",
      "                 Class     Images  Instances      Box(P          R      mAP50  mAP50-95): 100%|██████████| 77/77 [00:38<00:00,  2.00it/s]"
     ]
    },
    {
     "name": "stdout",
     "output_type": "stream",
     "text": [
      "                   all       3347      10299      0.887      0.815      0.882      0.586\n"
     ]
    },
    {
     "name": "stderr",
     "output_type": "stream",
     "text": [
      "\n"
     ]
    },
    {
     "name": "stdout",
     "output_type": "stream",
     "text": [
      "\n",
      "      Epoch    GPU_mem   box_loss   cls_loss   dfl_loss  Instances       Size\n"
     ]
    },
    {
     "name": "stderr",
     "output_type": "stream",
     "text": [
      "      15/20      10.8G      1.048     0.4773      1.076         70        640: 100%|██████████| 475/475 [06:43<00:00,  1.18it/s]\n",
      "                 Class     Images  Instances      Box(P          R      mAP50  mAP50-95): 100%|██████████| 77/77 [00:38<00:00,  2.01it/s]"
     ]
    },
    {
     "name": "stdout",
     "output_type": "stream",
     "text": [
      "                   all       3347      10299      0.896       0.81      0.883      0.588\n"
     ]
    },
    {
     "name": "stderr",
     "output_type": "stream",
     "text": [
      "\n"
     ]
    },
    {
     "name": "stdout",
     "output_type": "stream",
     "text": [
      "\n",
      "      Epoch    GPU_mem   box_loss   cls_loss   dfl_loss  Instances       Size\n"
     ]
    },
    {
     "name": "stderr",
     "output_type": "stream",
     "text": [
      "      16/20      10.7G      1.047      0.472      1.077         44        640: 100%|██████████| 475/475 [06:43<00:00,  1.18it/s]\n",
      "                 Class     Images  Instances      Box(P          R      mAP50  mAP50-95): 100%|██████████| 77/77 [00:38<00:00,  2.01it/s]"
     ]
    },
    {
     "name": "stdout",
     "output_type": "stream",
     "text": [
      "                   all       3347      10299      0.891       0.82      0.887      0.589\n"
     ]
    },
    {
     "name": "stderr",
     "output_type": "stream",
     "text": [
      "\n"
     ]
    },
    {
     "name": "stdout",
     "output_type": "stream",
     "text": [
      "\n",
      "      Epoch    GPU_mem   box_loss   cls_loss   dfl_loss  Instances       Size\n"
     ]
    },
    {
     "name": "stderr",
     "output_type": "stream",
     "text": [
      "      17/20      10.7G       1.04     0.4615      1.074         37        640: 100%|██████████| 475/475 [06:43<00:00,  1.18it/s]\n",
      "                 Class     Images  Instances      Box(P          R      mAP50  mAP50-95): 100%|██████████| 77/77 [00:38<00:00,  2.00it/s]"
     ]
    },
    {
     "name": "stdout",
     "output_type": "stream",
     "text": [
      "                   all       3347      10299      0.896      0.812      0.886      0.588\n"
     ]
    },
    {
     "name": "stderr",
     "output_type": "stream",
     "text": [
      "\n"
     ]
    },
    {
     "name": "stdout",
     "output_type": "stream",
     "text": [
      "\n",
      "      Epoch    GPU_mem   box_loss   cls_loss   dfl_loss  Instances       Size\n"
     ]
    },
    {
     "name": "stderr",
     "output_type": "stream",
     "text": [
      "      18/20      10.8G      1.032     0.4587      1.066         48        640: 100%|██████████| 475/475 [06:43<00:00,  1.18it/s]\n",
      "                 Class     Images  Instances      Box(P          R      mAP50  mAP50-95): 100%|██████████| 77/77 [00:38<00:00,  2.01it/s]"
     ]
    },
    {
     "name": "stdout",
     "output_type": "stream",
     "text": [
      "                   all       3347      10299      0.895      0.817      0.888      0.595\n"
     ]
    },
    {
     "name": "stderr",
     "output_type": "stream",
     "text": [
      "\n"
     ]
    },
    {
     "name": "stdout",
     "output_type": "stream",
     "text": [
      "\n",
      "      Epoch    GPU_mem   box_loss   cls_loss   dfl_loss  Instances       Size\n"
     ]
    },
    {
     "name": "stderr",
     "output_type": "stream",
     "text": [
      "      19/20      10.7G      1.025     0.4493      1.064         42        640: 100%|██████████| 475/475 [06:42<00:00,  1.18it/s]\n",
      "                 Class     Images  Instances      Box(P          R      mAP50  mAP50-95): 100%|██████████| 77/77 [00:38<00:00,  2.02it/s]"
     ]
    },
    {
     "name": "stdout",
     "output_type": "stream",
     "text": [
      "                   all       3347      10299      0.888      0.822      0.889      0.594\n"
     ]
    },
    {
     "name": "stderr",
     "output_type": "stream",
     "text": [
      "\n"
     ]
    },
    {
     "name": "stdout",
     "output_type": "stream",
     "text": [
      "\n",
      "      Epoch    GPU_mem   box_loss   cls_loss   dfl_loss  Instances       Size\n"
     ]
    },
    {
     "name": "stderr",
     "output_type": "stream",
     "text": [
      "      20/20      10.6G      1.022      0.441      1.062         56        640: 100%|██████████| 475/475 [06:42<00:00,  1.18it/s]\n",
      "                 Class     Images  Instances      Box(P          R      mAP50  mAP50-95): 100%|██████████| 77/77 [00:38<00:00,  2.02it/s]"
     ]
    },
    {
     "name": "stdout",
     "output_type": "stream",
     "text": [
      "                   all       3347      10299      0.896      0.821       0.89      0.595\n"
     ]
    },
    {
     "name": "stderr",
     "output_type": "stream",
     "text": [
      "\n"
     ]
    },
    {
     "name": "stdout",
     "output_type": "stream",
     "text": [
      "\n",
      "20 epochs completed in 2.471 hours.\n",
      "Optimizer stripped from face_detection/yolov8m_face_detection_s640_e50-703/weights/last.pt, 52.0MB\n",
      "Optimizer stripped from face_detection/yolov8m_face_detection_s640_e50-703/weights/best.pt, 52.0MB\n",
      "\n",
      "Validating face_detection/yolov8m_face_detection_s640_e50-703/weights/best.pt...\n",
      "Ultralytics YOLOv8.2.79 🚀 Python-3.10.13 torch-2.1.2 CUDA:0 (Tesla P100-PCIE-16GB, 16269MiB)\n",
      "Model summary (fused): 218 layers, 25,840,339 parameters, 0 gradients, 78.7 GFLOPs\n"
     ]
    },
    {
     "name": "stderr",
     "output_type": "stream",
     "text": [
      "                 Class     Images  Instances      Box(P          R      mAP50  mAP50-95): 100%|██████████| 77/77 [00:43<00:00,  1.75it/s]\n"
     ]
    },
    {
     "name": "stdout",
     "output_type": "stream",
     "text": [
      "                   all       3347      10299      0.895      0.817      0.888      0.595\n",
      "Speed: 0.1ms preprocess, 7.8ms inference, 0.0ms loss, 0.9ms postprocess per image\n",
      "Results saved to \u001b[1mface_detection/yolov8m_face_detection_s640_e50-703\u001b[0m\n"
     ]
    },
    {
     "data": {
      "application/vnd.jupyter.widget-view+json": {
       "model_id": "",
       "version_major": 2,
       "version_minor": 0
      },
      "text/plain": [
       "VBox(children=(Label(value='56.093 MB of 56.093 MB uploaded\\r'), FloatProgress(value=1.0, max=1.0)))"
      ]
     },
     "metadata": {},
     "output_type": "display_data"
    },
    {
     "data": {
      "text/html": [
       "<style>\n",
       "    table.wandb td:nth-child(1) { padding: 0 10px; text-align: left ; width: auto;} td:nth-child(2) {text-align: left ; width: 100%}\n",
       "    .wandb-row { display: flex; flex-direction: row; flex-wrap: wrap; justify-content: flex-start; width: 100% }\n",
       "    .wandb-col { display: flex; flex-direction: column; flex-basis: 100%; flex: 1; padding: 10px; }\n",
       "    </style>\n",
       "<div class=\"wandb-row\"><div class=\"wandb-col\"><h3>Run history:</h3><br/><table class=\"wandb\"><tr><td>lr/pg0</td><td>▃▆██▇▇▆▆▆▅▅▄▄▃▃▃▂▂▁▁</td></tr><tr><td>lr/pg1</td><td>▃▆██▇▇▆▆▆▅▅▄▄▃▃▃▂▂▁▁</td></tr><tr><td>lr/pg2</td><td>▃▆██▇▇▆▆▆▅▅▄▄▃▃▃▂▂▁▁</td></tr><tr><td>metrics/mAP50(B)</td><td>▆▄▂▂▂▁▃▃▃▃▄▅▆▇▇█████</td></tr><tr><td>metrics/mAP50-95(B)</td><td>▆▄▃▃▃▁▃▃▄▃▅▆▆▇▇▇▇███</td></tr><tr><td>metrics/precision(B)</td><td>▄▃▆▄▅▁▆▅▄▅▄▆█▆█▇██▆█</td></tr><tr><td>metrics/recall(B)</td><td>▇▇▁▄▃▃▁▄▄▄▅▄▄▇▆█▆▇█▇</td></tr><tr><td>model/GFLOPs</td><td>▁</td></tr><tr><td>model/parameters</td><td>▁</td></tr><tr><td>model/speed_PyTorch(ms)</td><td>▁</td></tr><tr><td>train/box_loss</td><td>▂▁▂▂▂▁▁▁▁▁██████▇▇▇▇</td></tr><tr><td>train/cls_loss</td><td>▂▁▂▂▂▂▁▁▁▁██▇▇▇▇▆▆▆▆</td></tr><tr><td>train/dfl_loss</td><td>▂▁▁▁▁▁▁▁▁▁██▇▇▇▇▇▇▇▇</td></tr><tr><td>val/box_loss</td><td>▅▇████▇█▆▇▆▄▃▃▂▂▂▁▁▁</td></tr><tr><td>val/cls_loss</td><td>▅▇█▇█▇▆▆▆▆▅▅▄▄▃▂▂▁▁▁</td></tr><tr><td>val/dfl_loss</td><td>▇█▆▇▇▇▆▇▆▆▄▃▃▂▂▂▂▁▁▁</td></tr></table><br/></div><div class=\"wandb-col\"><h3>Run summary:</h3><br/><table class=\"wandb\"><tr><td>lr/pg0</td><td>0.00012</td></tr><tr><td>lr/pg1</td><td>0.00012</td></tr><tr><td>lr/pg2</td><td>0.00012</td></tr><tr><td>metrics/mAP50(B)</td><td>0.88791</td></tr><tr><td>metrics/mAP50-95(B)</td><td>0.59479</td></tr><tr><td>metrics/precision(B)</td><td>0.89486</td></tr><tr><td>metrics/recall(B)</td><td>0.81688</td></tr><tr><td>model/GFLOPs</td><td>79.066</td></tr><tr><td>model/parameters</td><td>25856899</td></tr><tr><td>model/speed_PyTorch(ms)</td><td>7.678</td></tr><tr><td>train/box_loss</td><td>1.02191</td></tr><tr><td>train/cls_loss</td><td>0.44102</td></tr><tr><td>train/dfl_loss</td><td>1.0625</td></tr><tr><td>val/box_loss</td><td>1.15973</td></tr><tr><td>val/cls_loss</td><td>0.50483</td></tr><tr><td>val/dfl_loss</td><td>1.14099</td></tr></table><br/></div></div>"
      ],
      "text/plain": [
       "<IPython.core.display.HTML object>"
      ]
     },
     "metadata": {},
     "output_type": "display_data"
    },
    {
     "data": {
      "text/html": [
       " View run <strong style=\"color:#cdcd00\">yolov8m_face_detection_s640_e50-703</strong> at: <a href='https://wandb.ai/volkov-maxim/face_detection/runs/d1vg9we4' target=\"_blank\">https://wandb.ai/volkov-maxim/face_detection/runs/d1vg9we4</a><br/> View project at: <a href='https://wandb.ai/volkov-maxim/face_detection' target=\"_blank\">https://wandb.ai/volkov-maxim/face_detection</a><br/>Synced 5 W&B file(s), 24 media file(s), 5 artifact file(s) and 0 other file(s)"
      ],
      "text/plain": [
       "<IPython.core.display.HTML object>"
      ]
     },
     "metadata": {},
     "output_type": "display_data"
    },
    {
     "data": {
      "text/html": [
       "Find logs at: <code>./wandb/run-20240822_074401-d1vg9we4/logs</code>"
      ],
      "text/plain": [
       "<IPython.core.display.HTML object>"
      ]
     },
     "metadata": {},
     "output_type": "display_data"
    },
    {
     "data": {
      "text/html": [
       "The new W&B backend becomes opt-out in version 0.18.0; try it out with `wandb.require(\"core\")`! See https://wandb.me/wandb-core for more information."
      ],
      "text/plain": [
       "<IPython.core.display.HTML object>"
      ]
     },
     "metadata": {},
     "output_type": "display_data"
    }
   ],
   "source": [
    "# Loading the YOLOv8 model\n",
    "# model = YOLO(\"yolov8m.pt\", task=\"detect\") \n",
    "model = YOLO(\"/kaggle/working/face_detection/yolov8m_face_detection_s640_e30-50/weights/yolov8m_face_detection_e50_s640_best.pt\", \n",
    "             task=\"detect\") # Past epochs: 50\n",
    "\n",
    "\n",
    "# Setting up training arguments\n",
    "args = dict(\n",
    "  data=\"data.yaml\", \n",
    "  epochs=20,\n",
    "  batch=-1,\n",
    "  imgsz=640,\n",
    "  cache=True,\n",
    "  device=0,\n",
    "  project=\"face_detection\",\n",
    "  name=\"yolov8m_face_detection_s640_e50-70\",\n",
    "  verbose=True,\n",
    "#   cos_lr=True, # Turned off for learning from 50 to 70 epochs.\n",
    "  plots=True\n",
    ")\n",
    "\n",
    "# Initiating model training\n",
    "results = model.train(**args)\n"
   ]
  },
  {
   "cell_type": "markdown",
   "metadata": {},
   "source": [
    "## Validate on test split."
   ]
  },
  {
   "cell_type": "code",
   "execution_count": 5,
   "metadata": {
    "execution": {
     "iopub.execute_input": "2024-08-22T10:28:36.925958Z",
     "iopub.status.busy": "2024-08-22T10:28:36.925537Z",
     "iopub.status.idle": "2024-08-22T10:29:23.937395Z",
     "shell.execute_reply": "2024-08-22T10:29:23.936055Z",
     "shell.execute_reply.started": "2024-08-22T10:28:36.925926Z"
    }
   },
   "outputs": [
    {
     "name": "stdout",
     "output_type": "stream",
     "text": [
      "Ultralytics YOLOv8.2.79 🚀 Python-3.10.13 torch-2.1.2 CUDA:0 (Tesla P100-PCIE-16GB, 16269MiB)\n",
      "Model summary (fused): 218 layers, 25,840,339 parameters, 0 gradients, 78.7 GFLOPs\n"
     ]
    },
    {
     "name": "stderr",
     "output_type": "stream",
     "text": [
      "\u001b[34m\u001b[1mval: \u001b[0mScanning /kaggle/working/face-detection-dataset/test/labels.cache... 2939 images, 0 backgrounds, 0 corrupt: 100%|██████████| 2939/2939 [00:00<?, ?it/s]\n",
      "/opt/conda/lib/python3.10/multiprocessing/popen_fork.py:66: RuntimeWarning: os.fork() was called. os.fork() is incompatible with multithreaded code, and JAX is multithreaded, so this will likely lead to a deadlock.\n",
      "  self.pid = os.fork()\n",
      "                 Class     Images  Instances      Box(P          R      mAP50  mAP50-95): 100%|██████████| 184/184 [00:40<00:00,  4.50it/s]\n"
     ]
    },
    {
     "name": "stdout",
     "output_type": "stream",
     "text": [
      "                   all       2939       8826        0.9       0.82      0.884      0.595\n",
      "Speed: 0.1ms preprocess, 8.0ms inference, 0.0ms loss, 1.5ms postprocess per image\n",
      "Results saved to \u001b[1mruns/detect/val2\u001b[0m\n"
     ]
    }
   ],
   "source": [
    "# Check metrics on test split.\n",
    "model = YOLO(\"/kaggle/working/face_detection/yolov8m_face_detection_s640_e30-50/weights/yolov8m_face_detection_e50_s640_best.pt\", \n",
    "             task=\"detect\"\n",
    ") # because \"_e50_\" model slightly better.\n",
    "\n",
    "metrics = model.val(data=\"data.yaml\", device=0, split=\"test\")"
   ]
  },
  {
   "cell_type": "code",
   "execution_count": 9,
   "metadata": {
    "execution": {
     "iopub.execute_input": "2024-08-22T10:30:31.510939Z",
     "iopub.status.busy": "2024-08-22T10:30:31.510550Z",
     "iopub.status.idle": "2024-08-22T10:30:31.517580Z",
     "shell.execute_reply": "2024-08-22T10:30:31.516521Z",
     "shell.execute_reply.started": "2024-08-22T10:30:31.510907Z"
    }
   },
   "outputs": [
    {
     "name": "stdout",
     "output_type": "stream",
     "text": [
      "mAP50-95 0.5951788936471754\n",
      "mAP50 0.8841639137917188\n",
      "mAP75 0.6730644622409729\n",
      "mAP50-95 0.5951788936471754\n"
     ]
    }
   ],
   "source": [
    "print(\"mAP50-95\", metrics.box.map)\n",
    "print(\"mAP50\", metrics.box.map50)\n",
    "print(\"mAP75\", metrics.box.map75)\n",
    "print(\"mAP50-95\", metrics.box.maps[0])"
   ]
  }
 ],
 "metadata": {
  "kaggle": {
   "accelerator": "gpu",
   "dataSources": [
    {
     "datasetId": 3345370,
     "sourceId": 5891144,
     "sourceType": "datasetVersion"
    },
    {
     "isSourceIdPinned": true,
     "modelId": 107235,
     "modelInstanceId": 82936,
     "sourceId": 98845,
     "sourceType": "modelInstanceVersion"
    }
   ],
   "dockerImageVersionId": 30747,
   "isGpuEnabled": true,
   "isInternetEnabled": true,
   "language": "python",
   "sourceType": "notebook"
  },
  "kernelspec": {
   "display_name": "Python 3 (ipykernel)",
   "language": "python",
   "name": "python3"
  },
  "language_info": {
   "codemirror_mode": {
    "name": "ipython",
    "version": 3
   },
   "file_extension": ".py",
   "mimetype": "text/x-python",
   "name": "python",
   "nbconvert_exporter": "python",
   "pygments_lexer": "ipython3",
   "version": "3.10.13"
  }
 },
 "nbformat": 4,
 "nbformat_minor": 4
}
